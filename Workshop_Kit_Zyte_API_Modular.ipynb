{
  "cells": [
    {
      "cell_type": "code",
      "execution_count": null,
      "metadata": {
        "colab": {
          "base_uri": "https://localhost:8080/"
        },
        "id": "KXzwnmomgtlg",
        "outputId": "a4356384-9618-4fc8-eb6a-b9ec9a202a97"
      },
      "outputs": [
        {
          "name": "stdout",
          "output_type": "stream",
          "text": [
            "Collecting parsel\n",
            "  Downloading parsel-1.9.1-py2.py3-none-any.whl.metadata (11 kB)\n",
            "Collecting cssselect>=1.2.0 (from parsel)\n",
            "  Downloading cssselect-1.2.0-py2.py3-none-any.whl.metadata (2.2 kB)\n",
            "Collecting jmespath (from parsel)\n",
            "  Downloading jmespath-1.0.1-py3-none-any.whl.metadata (7.6 kB)\n",
            "Requirement already satisfied: lxml in /usr/local/lib/python3.10/dist-packages (from parsel) (5.3.0)\n",
            "Requirement already satisfied: packaging in /usr/local/lib/python3.10/dist-packages (from parsel) (24.2)\n",
            "Collecting w3lib>=1.19.0 (from parsel)\n",
            "  Downloading w3lib-2.2.1-py3-none-any.whl.metadata (2.1 kB)\n",
            "Downloading parsel-1.9.1-py2.py3-none-any.whl (17 kB)\n",
            "Downloading cssselect-1.2.0-py2.py3-none-any.whl (18 kB)\n",
            "Downloading w3lib-2.2.1-py3-none-any.whl (21 kB)\n",
            "Downloading jmespath-1.0.1-py3-none-any.whl (20 kB)\n",
            "Installing collected packages: w3lib, jmespath, cssselect, parsel\n",
            "Successfully installed cssselect-1.2.0 jmespath-1.0.1 parsel-1.9.1 w3lib-2.2.1\n"
          ]
        }
      ],
      "source": [
        "!pip install parsel"
      ]
    },
    {
      "cell_type": "markdown",
      "metadata": {
        "id": "Paim4eBZfpDl"
      },
      "source": [
        "## Introduction\n",
        "\n",
        "### Workshop Overview\n",
        "\n",
        "#### Meet Danny, a Freelancing Web Scraping Developer\n",
        "Danny leads the data acquisition team, handling scraping projects for major e-commerce clients. Despite years of experience with traditional scraping tools, his team faces mounting challenges:\n",
        "\n",
        "Current Pain Points:\n",
        "\n",
        "1. Their scrapers break frequently due to JavaScript-heavy sites.\n",
        "2. Anti-bot measures are becoming more sophisticated.\n",
        "3. Handling infinite scroll and dynamic loading is a constant battle.\n",
        "4. Maintaining proxy infrastructure is eating up development time.\n",
        "5. Browser automation scripts are fragile and resource-intensive.\n",
        "6. Regional data access requires complex proxy management.\n",
        "\n",
        "\n",
        "### Moving Beyond Traditional Scraping with Zyte API\n",
        "This workshop shows you how to overcome these common developer frustrations. You'll learn to build resilient scraping systems that:\n",
        "\n",
        "Architecture Improvements:\n",
        "- Replace brittle Selenium scripts with stable API-based solutions\n",
        "- Eliminate proxy management overhead\n",
        "- Handle modern web technologies efficiently\n",
        "- Scale without infrastructure headaches\n",
        "\n",
        "Technical Challenges You'll Solve\n",
        "\n",
        "- Extract data from JavaScript-rendered content without using explicit browser automation tools.\n",
        "- Navigate infinite scroll without complex scroll simulations\n",
        "- Access geo-restricted content through simple API parameters\n",
        "- Handle anti-bot measures without maintaining proxy pools\n",
        "- Extract structured data from dynamic tables and listings\n",
        "\n",
        "#### Workshop Approach: Building Real-World Scraping Solutions\n",
        "##### Learning Through Production Scenarios\n",
        "\n",
        "In this workshop, we'll build scrapers for actual e-commerce websites, progressing from basic extraction to complex automation. Each concept is taught through practical examples, followed by hands-on implementation.\n",
        "\n",
        "\n",
        "#### Prerequisites\n",
        "- Zyte API account and key\n",
        "- Python programming experience\n",
        "- Basic understanding of web scraping concepts"
      ]
    },
    {
      "cell_type": "code",
      "execution_count": null,
      "metadata": {
        "id": "_bJr5YTazK1_"
      },
      "outputs": [],
      "source": [
        "Zyte_Api_Key = \"\""
      ]
    },
    {
      "cell_type": "markdown",
      "metadata": {
        "id": "LWKNOz7_strd"
      },
      "source": [
        "## Module 1: Foundation & Setup\n",
        "\n",
        "- Chapter 1: Getting Started with Zyte API\n",
        "- Chapter 2: Browser Rendering Fundamentals"
      ]
    },
    {
      "cell_type": "markdown",
      "metadata": {
        "id": "DIDIxrQtuYwF"
      },
      "source": [
        "### Chapter 1: Extract Product Details with Zyte API\n",
        "\n",
        "#### Problem Statement:\n",
        "We will amazon.in to extract details of a product.  \n",
        "\n",
        "\n",
        "#### Objective:\n",
        "Scrape structured data for products, including names, prices, ratings, and availability, and store it in a usable format.\n",
        "\n",
        "#### How it works:\n"
      ]
    },
    {
      "cell_type": "code",
      "execution_count": null,
      "metadata": {
        "colab": {
          "base_uri": "https://localhost:8080/"
        },
        "id": "WMp9xMenxyg6",
        "outputId": "3b559d4d-1656-439d-a5f5-ac9ff943c06e"
      },
      "outputs": [
        {
          "name": "stdout",
          "output_type": "stream",
          "text": [
            "{'name': 'OnePlus 12R (Iron Gray, 8 GB RAM, 256 GB Storage)', 'price': '42999.0', 'currency': 'INR', 'currencyRaw': '₹', 'availability': 'InStock', 'sku': 'B0CX2L28HH', 'mpn': '\\u200eCPH2585', 'brand': {'name': 'OnePlus'}, 'breadcrumbs': [{'name': 'Electronics', 'url': 'https://www.amazon.in/electronics/b/ref=dp_bc_aui_C_1/261-5124165-2520305?ie=UTF8&node=976419031'}, {'name': 'Mobiles & Accessories', 'url': 'https://www.amazon.in/mobile-phones/b/ref=dp_bc_aui_C_2/261-5124165-2520305?ie=UTF8&node=1389401031'}, {'name': 'Smartphones & Basic Mobiles', 'url': 'https://www.amazon.in/smartphones-basic-mobiles/b/ref=dp_bc_aui_C_3/261-5124165-2520305?ie=UTF8&node=1389432031'}, {'name': 'Smartphones', 'url': 'https://www.amazon.in/Smartphones/b/ref=dp_bc_aui_C_4/261-5124165-2520305?ie=UTF8&node=1805560031'}], 'mainImage': {'url': 'https://m.media-amazon.com/images/I/71XNeka-BRL._SX679_.jpg'}, 'images': [{'url': 'https://m.media-amazon.com/images/I/71XNeka-BRL._SX679_.jpg'}, {'url': 'https://m.media-amazon.com/images/I/31kaEJ99V6L._SX38_SY50_CR,0,0,38,50_.jpg'}, {'url': 'https://m.media-amazon.com/images/I/514IjlFO1ZL._SX38_SY50_CR,0,0,38,50_.jpg'}, {'url': 'https://m.media-amazon.com/images/I/31pMBP3E8EL._SX38_SY50_CR,0,0,38,50_.jpg'}, {'url': 'https://m.media-amazon.com/images/I/41up2ajGm9L._SX38_SY50_CR,0,0,38,50_.jpg'}, {'url': 'https://m.media-amazon.com/images/I/312pDyckzSL._SX38_SY50_CR,0,0,38,50_.jpg'}, {'url': 'https://m.media-amazon.com/images/I/41tXf+ETfoL._SX38_SY50_CR,0,0,38,50_.jpg'}, {'url': 'https://m.media-amazon.com/images/I/619JYZGFpnL.SX38_SY50_CR,0,0,38,50_BG85,85,85_BR-120_PKdp-play-icon-overlay__.jpg'}, {'url': 'https://m.media-amazon.com/images/S/aplus-media-library-service-media/62556cdb-4d51-4bd8-9a29-3f66562aa0fc.__CR0,0,1464,600_PT0_SX1464_V1___.jpg'}, {'url': 'https://m.media-amazon.com/images/S/aplus-media-library-service-media/2f5ce1e0-a320-48c6-b502-b393d5898f72.__CR0,0,1464,600_PT0_SX1464_V1___.jpg'}, {'url': 'https://m.media-amazon.com/images/S/aplus-media-library-service-media/7c682042-88a0-43e1-97a2-d92b08c542e2.__CR0,0,1464,600_PT0_SX1464_V1___.jpg'}, {'url': 'https://m.media-amazon.com/images/S/aplus-media-library-service-media/6e4dd490-88c6-47ba-9570-5cc778c5e769.__CR0,0,1464,600_PT0_SX1464_V1___.jpg'}], 'description': \"About this item\\n\\nFast & Smooth for years: Snapdragon 8 Gen 2 Mobile Platform, Up to 16GB of LPDDR5X RAM with RAM-Vita - Dual Cryo-velocity VC Cooling System, TÜV SÜD 48-Month Fluency Rating A\\nPristine Display with Aqua Touch: Super-Bright 1.5K LTPO ProXDR Display with Dolby Vision, and a DisplayMate A+ rating, Intellignent Eye Care certified by TÜV Rheinland, 4500 nits Peak Brightness, Aqua Touch helps you stay swiping, even with wet hands\\nComputational Photography That's Incomparable: RAW HDR Algorithm, 50MP Sony IMX890 Camera and Ultra-wide Camera 112° FoV Sony IMX355, Ultra-Clear Image Quality\\nOur Longest-Lasting Battery Ever: 5500 mAh Battery with 100W SUPERVOOC, Paired with our advanced Battery Health Engine for longevity\\nSmoother and more stable connectivity: WiFi 7 Ready, Enhanced Wi-Fi, Lower gaming latency, Reduced network recovery time.\\n\\n› See more product details\", 'descriptionHtml': '<article>\\n\\n<h2>About this item</h2>\\n\\n<ul><li> Fast &amp; Smooth for years: Snapdragon 8 Gen 2 Mobile Platform, Up to 16GB of LPDDR5X RAM with RAM-Vita - Dual Cryo-velocity VC Cooling System, TÜV SÜD 48-Month Fluency Rating A  </li>  <li> Pristine Display with Aqua Touch: Super-Bright 1.5K LTPO ProXDR Display with Dolby Vision, and a DisplayMate A+ rating, Intellignent Eye Care certified by TÜV Rheinland, 4500 nits Peak Brightness, Aqua Touch helps you stay swiping, even with wet hands  </li>  <li> Computational Photography That\\'s Incomparable: RAW HDR Algorithm, 50MP Sony IMX890 Camera and Ultra-wide Camera 112° FoV Sony IMX355, Ultra-Clear Image Quality  </li>  <li> Our Longest-Lasting Battery Ever: 5500 mAh Battery with 100W SUPERVOOC, Paired with our advanced Battery Health Engine for longevity  </li>  <li> Smoother and more stable connectivity: WiFi 7 Ready, Enhanced Wi-Fi, Lower gaming latency, Reduced network recovery time.  </li></ul>\\n\\n<p>›<a href=\"https://www.amazon.in/gp/product/B0CX2L28HH/?th=1#productDetails\"> See more product details </a></p>\\n\\n</article>', 'aggregateRating': {'ratingValue': 4.3, 'bestRating': 5.0, 'reviewCount': 4614}, 'color': 'Iron Gray', 'size': '8 GB', 'additionalProperties': [{'name': 'colour', 'value': 'Iron Gray'}, {'name': 'os', 'value': '\\u200eOxygenOS'}, {'name': 'ram', 'value': '\\u200e8 GB'}, {'name': 'product dimensions', 'value': '\\u200e16.3 x 7.5 x 0.9 cm; 207 g'}, {'name': 'batteries', 'value': '\\u200e1 Lithium Polymer batteries required. (included)'}, {'name': 'item model number', 'value': '\\u200eCPH2585'}, {'name': 'wireless communication technologies', 'value': '\\u200eWi-Fi'}, {'name': 'connectivity technologies', 'value': '\\u200eBluetooth, Wi-Fi, USB'}, {'name': 'gps', 'value': '\\u200eGLONASS'}, {'name': 'special features', 'value': '\\u200eFast Charging Support, Dual SIM'}, {'name': 'other display features', 'value': '\\u200eWireless'}, {'name': 'device interface - primary', 'value': '\\u200eTouchscreen'}, {'name': 'other camera features', 'value': '\\u200eRear'}, {'name': 'audio jack', 'value': '\\u200eusb type-c'}, {'name': 'form factor', 'value': '\\u200eBar'}, {'name': 'battery power rating', 'value': '\\u200e5500'}, {'name': 'whats in the box', 'value': '\\u200eData cable x 1 (USB-A to USB Type-C), Quick Guide x 1, SIM ejector tool x 1, Protective case x 1, Charger x 1 (SUPERVOOC 100 W)'}, {'name': 'manufacturer', 'value': '\\u200eOnePlus'}, {'name': 'country of origin', 'value': '\\u200eIndia'}, {'name': 'item weight', 'value': '\\u200e207 g'}, {'name': 'brand', 'value': 'OnePlus'}, {'name': 'operating system', 'value': 'OxygenOS'}, {'name': 'ram memory installed size', 'value': '8 GB'}, {'name': 'cpu model', 'value': 'Snapdragon'}, {'name': 'cpu speed', 'value': '3.2 GHz'}, {'name': 'asin', 'value': 'B0CX2L28HH'}, {'name': 'customer reviews', 'value': '4.3 4,614 ratings 4.3 out of 5 stars'}, {'name': 'best sellers rank', 'value': '#4,016 in Electronics (See Top 100 in Electronics) #310 in Smartphones'}, {'name': 'date first available', 'value': '4 March 2024'}, {'name': 'packer', 'value': 'Oppo Mobiles India Private Limited, OPPO Mobiles India Private Limited PLOT-NO.1, SECTOR ECOTECH-VII, GREATER, NOIDA, UTTAR PRADESH, India-201306 OnePlus Customer Service Contact number：1800 102 8411 WhatsApp：+91-9289606888'}, {'name': 'item dimensions lxwxh', 'value': '16.3 x 7.5 x 0.9 Centimeters'}, {'name': 'net quantity', 'value': '1 Piece'}, {'name': 'generic name', 'value': 'Smartwatch'}, {'name': 'memory storage capacity', 'value': '256 GB'}, {'name': 'ram memory size', 'value': '8 GB'}], 'features': ['Fast & Smooth for years: Snapdragon 8 Gen 2 Mobile Platform, Up to 16GB of LPDDR5X RAM with RAM-Vita - Dual Cryo-velocity VC Cooling System, TÜV SÜD 48-Month Fluency Rating A', 'Pristine Display with Aqua Touch: Super-Bright 1.5K LTPO ProXDR Display with Dolby Vision, and a DisplayMate A+ rating, Intellignent Eye Care certified by TÜV Rheinland, 4500 nits Peak Brightness, Aqua Touch helps you stay swiping, even with wet hands', \"Computational Photography That's Incomparable: RAW HDR Algorithm, 50MP Sony IMX890 Camera and Ultra-wide Camera 112° FoV Sony IMX355, Ultra-Clear Image Quality\", 'Our Longest-Lasting Battery Ever: 5500 mAh Battery with 100W SUPERVOOC, Paired with our advanced Battery Health Engine for longevity', 'Smoother and more stable connectivity: WiFi 7 Ready, Enhanced Wi-Fi, Lower gaming latency, Reduced network recovery time.'], 'url': 'https://www.amazon.in/gp/product/B0CX2L28HH/?th=1', 'canonicalUrl': 'https://www.amazon.in/OnePlus-12R-Iron-Gray-Storage/dp/B0CX2L28HH', 'metadata': {'probability': 0.9834604859352112, 'dateDownloaded': '2025-01-05T17:21:56Z'}, 'variants': [{'color': 'Cool Blue'}, {'color': 'Iron Gray'}, {'color': 'Sunset Dune'}, {'size': '8 GB'}, {'size': '16 GB'}]}\n"
          ]
        }
      ],
      "source": [
        "from base64 import b64decode\n",
        "\n",
        "import requests\n",
        "\n",
        "api_response = requests.post(\n",
        "    \"https://api.zyte.com/v1/extract\",\n",
        "    auth=(Zyte_Api_Key, \"\"),\n",
        "    json={\n",
        "        \"url\": \"https://www.amazon.in/gp/product/B0CX2L28HH/\",\n",
        "        \"product\" : True\n",
        "    },\n",
        ")\n",
        "\n",
        "product = api_response.json()['product']\n",
        "print(product)"
      ]
    },
    {
      "cell_type": "markdown",
      "metadata": {
        "id": "X--BtXBuSDCi"
      },
      "source": [
        "💡 **You cannot combine multiple automatic extraction request fields (e.g. product and productList) on the same request.**"
      ]
    },
    {
      "cell_type": "code",
      "execution_count": null,
      "metadata": {
        "colab": {
          "base_uri": "https://localhost:8080/"
        },
        "id": "KJHjL149Ri-4",
        "outputId": "2443787e-33c9-4e80-8af4-a0e755894956"
      },
      "outputs": [
        {
          "name": "stdout",
          "output_type": "stream",
          "text": [
            "[{'url': 'https://www.tatacliq.com/homesake-yellow-copper-snowflake-led-fairy-lights/p-mp000000019256916', 'mainImage': {'url': 'https://www.tatacliq.com/src/general/components/img/green-filled-star.svg'}, 'metadata': {'probability': 0.3808705364427567}}, {'url': 'https://www.tatacliq.com/fos-lighting-palatial-golden-aluminium-five-light-candelabra-wall-sconce/p-mp000000017030563', 'name': 'FOS LIGHTING Palatial Golden Aluminium Five Light Candelabra Wall Sconce', 'metadata': {'probability': 0.1121336614578361}}, {'url': 'https://www.tatacliq.com/fos-lighting-black-mild-steel-modern-mesh-band-box-outdoor-wall-sconce/p-mp000000020717443', 'name': 'FOS LIGHTING Black Mild Steel Modern Mesh Band Box Outdoor Wall Sconce', 'price': '3275.0', 'currencyRaw': '₹', 'currency': 'INR', 'metadata': {'probability': 0.4457084815804535}}, {'url': 'https://www.tatacliq.com/kapoor-lamp-shades-brass-glass-hollis-wall-light/p-mp000000023870448', 'name': 'Kapoor Lamp Shades Brass & Glass Hollis Wall Light', 'price': '2990.0', 'currencyRaw': '₹', 'currency': 'INR', 'metadata': {'probability': 0.4010992170901062}}, {'url': 'https://www.tatacliq.com/kapoor-lamp-shades-wood-metal-alton-led-picture-light/p-mp000000023870512', 'name': 'Kapoor Lamp Shades Wood & Metal Alton Led Picture Light', 'price': '3690.0', 'currencyRaw': '₹', 'currency': 'INR', 'regularPrice': '6150.0', 'metadata': {'probability': 0.9366023846325788}}, {'url': 'https://www.tatacliq.com/exclusivelane-gleeful-smile-multicolor-sheesham-wood-wall-lamp/p-mp000000016731497', 'name': 'ExclusiveLane Gleeful Smile Multicolor Sheesham Wood Wall Lamp', 'price': '1909.0', 'currencyRaw': '₹', 'currency': 'INR', 'regularPrice': '3699.0', 'mainImage': {'url': 'https://www.tatacliq.com/src/general/components/img/green-filled-star.svg'}, 'metadata': {'probability': 0.8800153852945414}}, {'url': 'https://www.tatacliq.com/decorativeray-copper-wall-light--set-of-1/p-mp000000007492961', 'name': 'DecorativeRay Copper Wall Light - Set of 1', 'price': '2999.0', 'currencyRaw': '₹', 'currency': 'INR', 'regularPrice': '4499.0', 'metadata': {'probability': 0.7101544743086663}}, {'url': 'https://www.tatacliq.com/decorativeray-white-mdf-wall-light--set-of-1/p-mp000000010613492', 'name': 'DecorativeRay White MDF Wall Light - Set of 1', 'price': '2099.0', 'currencyRaw': '₹', 'currency': 'INR', 'regularPrice': '3699.0', 'mainImage': {'url': 'https://www.tatacliq.com/src/general/components/img/green-filled-star.svg'}, 'metadata': {'probability': 0.8764321881422177}}, {'url': 'https://www.tatacliq.com/fos-lighting-gold-15-inch-brass-wall-lamp-with-white-pleated-fabric-shade/p-mp000000017380417', 'name': 'Fos Lighting Gold 15-Inch Brass Wall Lamp With White Pleated Fabric Shade', 'price': '2060.0', 'currencyRaw': '₹', 'currency': 'INR', 'regularPrice': '2575.0', 'mainImage': {'url': 'https://www.tatacliq.com/src/general/components/img/green-filled-star.svg'}, 'metadata': {'probability': 0.7918932002382917}}, {'url': 'https://www.tatacliq.com/fos-lighting-mythical-majesty-golden-brass-single-sconce-with-luster-glass/p-mp000000022378239', 'name': 'FOS LIGHTING Mythical Majesty Golden Brass Single Sconce with Luster Glass', 'price': '5020.0', 'currencyRaw': '₹', 'currency': 'INR', 'regularPrice': '6275.0', 'metadata': {'probability': 0.6247809813487493}}, {'url': 'https://www.tatacliq.com/homesake-vintage-wall-sconce-set-of-2-antique-brass-gold-lighting-fixture/p-mp000000023972907', 'name': 'Homesake Vintage Wall Sconce Set of 2 Antique Brass Gold Lighting Fixture', 'price': '1099.0', 'currencyRaw': '₹', 'currency': 'INR', 'regularPrice': '3700.0', 'metadata': {'probability': 0.8424350247686618}}, {'url': 'https://www.tatacliq.com/fos-lighting-modern-gold-aluminium-led-picture-vanity-light/p-mp000000017896499', 'name': 'FOS LIGHTING Modern Gold Aluminium LED Picture Vanity Light', 'price': '4540.0', 'currencyRaw': '₹', 'currency': 'INR', 'regularPrice': '5675.0', 'metadata': {'probability': 0.8013703240237646}}, {'url': 'https://www.tatacliq.com/homesake-yellow-copper-100-led-fairy-string-lights/p-mp000000019256923', 'name': 'Homesake Yellow Copper 100-Led Fairy String Lights', 'price': '228.0', 'currencyRaw': '₹', 'currency': 'INR', 'regularPrice': '1800.0', 'metadata': {'probability': 0.7891272595138332}}, {'url': 'https://www.tatacliq.com/homesake-mid-century-modern-metal-and-glass-wall-light-brushed-gold-amber-glass-wall-scone-torch/p-mp000000024758898', 'name': 'Homesake Mid-Century Modern Metal and Glass Wall Light Brushed Gold Amber Glass Wall Scone Torch', 'price': '1499.0', 'currencyRaw': '₹', 'currency': 'INR', 'regularPrice': '4900.0', 'metadata': {'probability': 0.8176959745384238}}, {'url': 'https://www.tatacliq.com/kapoor-lamp-shades-brass-glass-deryn-wall-light/p-mp000000023870447', 'name': 'Kapoor Lamp Shades Brass & Glass Deryn Wall Light', 'price': '2790.0', 'currencyRaw': '₹', 'currency': 'INR', 'regularPrice': '4650.0', 'metadata': {'probability': 0.8732372611291339}}, {'url': 'https://www.tatacliq.com/kapoor-lamp-shades-metal-acrylic-salto-single-led-wall-light/p-mp000000023870496', 'name': 'Kapoor Lamp Shades Metal & Acrylic Salto Single Led Wall Light', 'price': '2590.0', 'currencyRaw': '₹', 'currency': 'INR', 'regularPrice': '4300.0', 'metadata': {'probability': 0.903132536461726}}, {'url': 'https://www.tatacliq.com/kapoor-lamp-shades-glass-mild-steel-vadumi-2-light-bathroom-mirror-wall-light/p-mp000000023870434', 'name': 'Kapoor Lamp Shades Glass & Mild Steel Vadumi 2 Light Bathroom Mirror Wall Light', 'price': '1990.0', 'currencyRaw': '₹', 'currency': 'INR', 'regularPrice': '4999.0', 'metadata': {'probability': 0.7910298887999545}}, {'url': 'https://www.tatacliq.com/decorativeray-brown-iron-wall-light--set-of-1/p-mp000000010613493', 'name': 'DecorativeRay Brown Iron Wall Light - Set of 1', 'price': '2199.0', 'currencyRaw': '₹', 'currency': 'INR', 'regularPrice': '3199.0', 'metadata': {'probability': 0.8613770105597496}}, {'url': 'https://www.tatacliq.com/decorativeray-white-mdf-wall-light--set-of-1/p-mp000000010613502', 'name': 'DecorativeRay White MDF Wall Light - Set of 1', 'price': '2099.0', 'currencyRaw': '₹', 'currency': 'INR', 'regularPrice': '3699.0', 'metadata': {'probability': 0.8678399659146407}}, {'url': 'https://www.tatacliq.com/decorativeray-black-iron-wall-light--set-of-1/p-mp000000010613506', 'name': 'DecorativeRay Black Iron Wall Light - Set of 1', 'price': '1599.0', 'currencyRaw': '₹', 'currency': 'INR', 'regularPrice': '2399.0', 'metadata': {'probability': 0.8608607250920386}}, {'url': 'https://www.tatacliq.com/fos-lighting-gold-mild-steel-antique-2-wall-lamp/p-mp000000019775227', 'name': 'Fos Lighting Gold Mild Steel Antique 2-Wall Lamp', 'price': '1740.0', 'currencyRaw': '₹', 'currency': 'INR', 'mainImage': {'url': 'https://www.tatacliq.com/src/general/components/img/green-filled-star.svg'}, 'metadata': {'probability': 0.7634064455317002}}, {'url': 'https://www.tatacliq.com/homesake-golden-metal-glass-rustic-wall-lamp--set-of-1-bulb-not-included/p-mp000000009125403', 'name': 'Homesake Golden Metal & Glass Rustic Wall Lamp - Set of 1 (Bulb not included)', 'price': '979.0', 'currencyRaw': '₹', 'currency': 'INR', 'regularPrice': '2900.0', 'metadata': {'probability': 0.7250257838620655}}, {'url': 'https://www.tatacliq.com/fos-lighting-brown-wood-long-bead-wall-lamp/p-mp000000019775296', 'name': 'Fos Lighting Brown Wood Long Bead Wall Lamp', 'price': '3980.0', 'currencyRaw': '₹', 'currency': 'INR', 'regularPrice': '4975.0', 'metadata': {'probability': 0.8018031824533978}}, {'url': 'https://www.tatacliq.com/homesake-mid-century-modern-metal-and-glass-wall-light-brushed-gold-amber-glass-wall-scone-trapezium/p-mp000000024758899', 'name': 'Homesake Mid-Century Modern Metal and Glass Wall Light Brushed Gold Amber Glass Wall Scone Trapezium', 'price': '1399.0', 'currencyRaw': '₹', 'currency': 'INR', 'regularPrice': '4600.0', 'metadata': {'probability': 0.7199199552616165}}, {'url': 'https://www.tatacliq.com/homesake-mid-century-modern-metal-and-glass-wall-light-wall-scone-metal-mesh-and-amber-glass/p-mp000000024758901', 'name': 'Homesake Mid-Century Modern Metal and Glass Wall Light Wall Scone Metal Mesh and Amber Glass', 'price': '1399.0', 'currencyRaw': '₹', 'currency': 'INR', 'regularPrice': '4600.0', 'metadata': {'probability': 0.7923311041849956}}, {'url': 'https://www.tatacliq.com/kapoor-lamp-shades-brass-antique-wall-light/p-mp000000023870443', 'name': 'Kapoor Lamp Shades Brass Antique Wall Light', 'price': '12960.0', 'currencyRaw': '₹', 'currency': 'INR', 'regularPrice': '14400.0', 'metadata': {'probability': 0.9131843798428463}}, {'url': 'https://www.tatacliq.com/kapoor-lamp-shades-glass-metal-locus-double-shade-wall-light/p-mp000000023870444', 'name': 'Kapoor Lamp Shades Glass & Metal Locus Double Shade Wall Light', 'price': '5790.0', 'currencyRaw': '₹', 'currency': 'INR', 'regularPrice': '9650.0', 'metadata': {'probability': 0.9076781953297086}}, {'url': 'https://www.tatacliq.com/kapoor-lamp-shades-glass-metal-martos-double-shade-wall-light/p-mp000000023870445', 'name': 'Kapoor Lamp Shades Glass & Metal Martos Double Shade Wall Light', 'price': '5490.0', 'currencyRaw': '₹', 'currency': 'INR', 'regularPrice': '9150.0', 'metadata': {'probability': 0.8450741235407122}}, {'url': 'https://www.tatacliq.com/fos-lighting-pink-blue-mild-steel-sconce-with-roses-textured-glass-shade/p-mp000000023649064', 'name': 'Fos Lighting Pink & Blue Mild Steel Sconce With Roses & Textured Glass Shade', 'price': '5500.0', 'currencyRaw': '₹', 'currency': 'INR', 'metadata': {'probability': 0.6359406090709285}}, {'url': 'https://www.tatacliq.com/decorativeray-white-wood-wall-light--set-of-1/p-mp000000010613508', 'name': 'DecorativeRay White Wood Wall Light - Set of 1', 'price': '1999.0', 'currencyRaw': '₹', 'currency': 'INR', 'regularPrice': '3099.0', 'metadata': {'probability': 0.8451109088802866}}, {'url': 'https://www.tatacliq.com/decorativeray-gold-iron-wall-light--set-of-1/p-mp000000010613521', 'name': 'DecorativeRay Gold Iron Wall Light - Set of 1', 'price': '2199.0', 'currencyRaw': '₹', 'currency': 'INR', 'regularPrice': '3499.0', 'metadata': {'probability': 0.8411169127683138}}, {'url': 'https://www.tatacliq.com/decorativeray-gold-iron-wall-light--set-of-1/p-mp000000010613522', 'name': 'DecorativeRay Gold Iron Wall Light - Set of 1', 'price': '1929.0', 'currencyRaw': '₹', 'currency': 'INR', 'regularPrice': '3099.0', 'metadata': {'probability': 0.8524192230197514}}, {'url': 'https://www.tatacliq.com/homesake-white-metal-vintage-wall-lamp/p-mp000000021307162', 'name': 'Homesake White Metal Vintage Wall Lamp', 'price': '910.0', 'currencyRaw': '₹', 'currency': 'INR', 'regularPrice': '3000.0', 'mainImage': {'url': 'https://www.tatacliq.com/src/general/components/img/orange-filled-star.svg'}, 'metadata': {'probability': 0.820763472911068}}, {'url': 'https://www.tatacliq.com/kapoor-lamp-shades-glass-metal-locus-single-shade-wall-light/p-mp000000023870449', 'name': 'Kapoor Lamp Shades Glass & Metal Locus Single Shade Wall Light', 'price': '2690.0', 'currencyRaw': '₹', 'currency': 'INR', 'regularPrice': '4490.0', 'mainImage': {'url': 'https://www.tatacliq.com/src/general/components/img/green-filled-star.svg'}, 'metadata': {'probability': 0.9056932537127693}}, {'url': 'https://www.tatacliq.com/kapoor-lamp-shades-glass-mild-steel-cabus-2-light-bathroom-mirror-wall-light/p-mp000000023870454', 'name': 'Kapoor Lamp Shades Glass & Mild Steel Cabus 2 Light Bathroom Mirror Wall Light', 'price': '1990.0', 'currencyRaw': '₹', 'currency': 'INR', 'regularPrice': '4999.0', 'metadata': {'probability': 0.7590985126540772}}, {'url': 'https://www.tatacliq.com/fos-lighting-gold-mild-steel-sun-kissed-diamonds-dance-hand-cut-wall-light/p-mp000000023649066', 'name': 'Fos Lighting Gold Mild Steel Sun-Kissed Diamonds Dance Hand-Cut Wall Light', 'price': '9420.0', 'currencyRaw': '₹', 'currency': 'INR', 'regularPrice': '11775.0', 'metadata': {'probability': 0.7183217583950352}}]\n"
          ]
        }
      ],
      "source": [
        "from base64 import b64decode\n",
        "\n",
        "import requests\n",
        "\n",
        "api_response = requests.post(\n",
        "    \"https://api.zyte.com/v1/extract\",\n",
        "    auth=(Zyte_Api_Key, \"\"),\n",
        "    json={\n",
        "        \"url\": \"https://www.tatacliq.com/wall-lights/c-msh2216106/?q=:relevance:category:MSH2216106:inStockFlag:true\",\n",
        "        \"productList\" : True,\n",
        "\n",
        "    },\n",
        ")\n",
        "\n",
        "products = api_response.json()['productList']['products']\n",
        "print(products)\n",
        "print(len(products))\n"
      ]
    },
    {
      "cell_type": "code",
      "execution_count": null,
      "metadata": {
        "colab": {
          "base_uri": "https://localhost:8080/"
        },
        "id": "W4rWSwqJXd4f",
        "outputId": "de116156-8c94-4d2c-e122-72d0af46f0a7"
      },
      "outputs": [
        {
          "name": "stdout",
          "output_type": "stream",
          "text": [
            "36\n"
          ]
        }
      ],
      "source": []
    },
    {
      "cell_type": "markdown",
      "metadata": {
        "id": "AkaQPrOauc32"
      },
      "source": [
        "### Chapter 2: Browser Rendering Fundamentals"
      ]
    },
    {
      "cell_type": "code",
      "execution_count": null,
      "metadata": {
        "colab": {
          "base_uri": "https://localhost:8080/"
        },
        "id": "-SeKguhbWExB",
        "outputId": "6d508dea-091b-4dee-a7f1-34288fa3a1eb"
      },
      "outputs": [
        {
          "name": "stdout",
          "output_type": "stream",
          "text": [
            "[{'url': 'https://www.tatacliq.com/homesake-yellow-copper-snowflake-led-fairy-lights/p-mp000000019256916', 'mainImage': {'url': 'https://www.tatacliq.com/src/general/components/img/green-filled-star.svg'}, 'metadata': {'probability': 0.3939786827250167}}, {'url': 'https://www.tatacliq.com/fos-lighting-palatial-golden-aluminium-five-light-candelabra-wall-sconce/p-mp000000017030563', 'name': 'FOS LIGHTING Palatial Golden Aluminium Five Light Candelabra Wall Sconce', 'metadata': {'probability': 0.10266314872968474}}, {'url': 'https://www.tatacliq.com/fos-lighting-black-mild-steel-modern-mesh-band-box-outdoor-wall-sconce/p-mp000000020717443', 'name': 'FOS LIGHTING Black Mild Steel Modern Mesh Band Box Outdoor Wall Sconce', 'price': '3275.0', 'currencyRaw': '₹', 'currency': 'INR', 'metadata': {'probability': 0.41981525143391885}}, {'url': 'https://www.tatacliq.com/kapoor-lamp-shades-brass-glass-hollis-wall-light/p-mp000000023870448', 'name': 'Kapoor Lamp Shades Brass & Glass Hollis Wall Light', 'price': '2990.0', 'currencyRaw': '₹', 'currency': 'INR', 'metadata': {'probability': 0.3836790105525303}}, {'url': 'https://www.tatacliq.com/kapoor-lamp-shades-wood-metal-alton-led-picture-light/p-mp000000023870512', 'name': 'Kapoor Lamp Shades Wood & Metal Alton Led Picture Light', 'price': '3690.0', 'currencyRaw': '₹', 'currency': 'INR', 'regularPrice': '6150.0', 'metadata': {'probability': 0.9365426067485707}}, {'url': 'https://www.tatacliq.com/exclusivelane-gleeful-smile-multicolor-sheesham-wood-wall-lamp/p-mp000000016731497', 'name': 'ExclusiveLane Gleeful Smile Multicolor Sheesham Wood Wall Lamp', 'price': '1909.0', 'currencyRaw': '₹', 'currency': 'INR', 'regularPrice': '3699.0', 'mainImage': {'url': 'https://www.tatacliq.com/src/general/components/img/green-filled-star.svg'}, 'metadata': {'probability': 0.8795070148367792}}, {'url': 'https://www.tatacliq.com/decorativeray-copper-wall-light--set-of-1/p-mp000000007492961', 'name': 'DecorativeRay Copper Wall Light - Set of 1', 'price': '2999.0', 'currencyRaw': '₹', 'currency': 'INR', 'regularPrice': '4499.0', 'metadata': {'probability': 0.7108036954180825}}, {'url': 'https://www.tatacliq.com/decorativeray-white-mdf-wall-light--set-of-1/p-mp000000010613492', 'name': 'DecorativeRay White MDF Wall Light - Set of 1', 'price': '2099.0', 'currencyRaw': '₹', 'currency': 'INR', 'regularPrice': '3699.0', 'mainImage': {'url': 'https://www.tatacliq.com/src/general/components/img/green-filled-star.svg'}, 'metadata': {'probability': 0.876609443666343}}, {'url': 'https://www.tatacliq.com/fos-lighting-gold-15-inch-brass-wall-lamp-with-white-pleated-fabric-shade/p-mp000000017380417', 'name': 'Fos Lighting Gold 15-Inch Brass Wall Lamp With White Pleated Fabric Shade', 'price': '2060.0', 'currencyRaw': '₹', 'currency': 'INR', 'regularPrice': '2575.0', 'mainImage': {'url': 'https://www.tatacliq.com/src/general/components/img/green-filled-star.svg'}, 'metadata': {'probability': 0.7920448722015578}}, {'url': 'https://www.tatacliq.com/fos-lighting-mythical-majesty-golden-brass-single-sconce-with-luster-glass/p-mp000000022378239', 'name': 'FOS LIGHTING Mythical Majesty Golden Brass Single Sconce with Luster Glass', 'price': '5020.0', 'currencyRaw': '₹', 'currency': 'INR', 'regularPrice': '6275.0', 'metadata': {'probability': 0.625192107368143}}, {'url': 'https://www.tatacliq.com/homesake-vintage-wall-sconce-set-of-2-antique-brass-gold-lighting-fixture/p-mp000000023972907', 'name': 'Homesake Vintage Wall Sconce Set of 2 Antique Brass Gold Lighting Fixture', 'price': '1099.0', 'currencyRaw': '₹', 'currency': 'INR', 'regularPrice': '3700.0', 'metadata': {'probability': 0.8424031079211396}}, {'url': 'https://www.tatacliq.com/fos-lighting-modern-gold-aluminium-led-picture-vanity-light/p-mp000000017896499', 'name': 'FOS LIGHTING Modern Gold Aluminium LED Picture Vanity Light', 'price': '4540.0', 'currencyRaw': '₹', 'currency': 'INR', 'regularPrice': '5675.0', 'metadata': {'probability': 0.8014027222715292}}, {'url': 'https://www.tatacliq.com/homesake-yellow-copper-100-led-fairy-string-lights/p-mp000000019256923', 'name': 'Homesake Yellow Copper 100-Led Fairy String Lights', 'price': '228.0', 'currencyRaw': '₹', 'currency': 'INR', 'regularPrice': '1800.0', 'metadata': {'probability': 0.7889782154209897}}, {'url': 'https://www.tatacliq.com/homesake-mid-century-modern-metal-and-glass-wall-light-brushed-gold-amber-glass-wall-scone-torch/p-mp000000024758898', 'name': 'Homesake Mid-Century Modern Metal and Glass Wall Light Brushed Gold Amber Glass Wall Scone Torch', 'price': '1499.0', 'currencyRaw': '₹', 'currency': 'INR', 'regularPrice': '4900.0', 'metadata': {'probability': 0.8176325353931162}}, {'url': 'https://www.tatacliq.com/kapoor-lamp-shades-brass-glass-deryn-wall-light/p-mp000000023870447', 'name': 'Kapoor Lamp Shades Brass & Glass Deryn Wall Light', 'price': '2790.0', 'currencyRaw': '₹', 'currency': 'INR', 'regularPrice': '4650.0', 'metadata': {'probability': 0.8732666880373081}}, {'url': 'https://www.tatacliq.com/kapoor-lamp-shades-metal-acrylic-salto-single-led-wall-light/p-mp000000023870496', 'name': 'Kapoor Lamp Shades Metal & Acrylic Salto Single Led Wall Light', 'price': '2590.0', 'currencyRaw': '₹', 'currency': 'INR', 'regularPrice': '4300.0', 'metadata': {'probability': 0.903134176727793}}, {'url': 'https://www.tatacliq.com/kapoor-lamp-shades-glass-mild-steel-vadumi-2-light-bathroom-mirror-wall-light/p-mp000000023870434', 'name': 'Kapoor Lamp Shades Glass & Mild Steel Vadumi 2 Light Bathroom Mirror Wall Light', 'price': '1990.0', 'currencyRaw': '₹', 'currency': 'INR', 'regularPrice': '4999.0', 'metadata': {'probability': 0.790987764455771}}, {'url': 'https://www.tatacliq.com/decorativeray-brown-iron-wall-light--set-of-1/p-mp000000010613493', 'name': 'DecorativeRay Brown Iron Wall Light - Set of 1', 'price': '2199.0', 'currencyRaw': '₹', 'currency': 'INR', 'regularPrice': '3199.0', 'metadata': {'probability': 0.8613806502116788}}, {'url': 'https://www.tatacliq.com/decorativeray-white-mdf-wall-light--set-of-1/p-mp000000010613502', 'name': 'DecorativeRay White MDF Wall Light - Set of 1', 'price': '2099.0', 'currencyRaw': '₹', 'currency': 'INR', 'regularPrice': '3699.0', 'metadata': {'probability': 0.8678547164527757}}, {'url': 'https://www.tatacliq.com/decorativeray-black-iron-wall-light--set-of-1/p-mp000000010613506', 'name': 'DecorativeRay Black Iron Wall Light - Set of 1', 'price': '1599.0', 'currencyRaw': '₹', 'currency': 'INR', 'regularPrice': '2399.0', 'metadata': {'probability': 0.860879260335139}}, {'url': 'https://www.tatacliq.com/fos-lighting-gold-mild-steel-antique-2-wall-lamp/p-mp000000019775227', 'name': 'Fos Lighting Gold Mild Steel Antique 2-Wall Lamp', 'price': '1740.0', 'currencyRaw': '₹', 'currency': 'INR', 'mainImage': {'url': 'https://www.tatacliq.com/src/general/components/img/green-filled-star.svg'}, 'metadata': {'probability': 0.7634006433900637}}, {'url': 'https://www.tatacliq.com/homesake-golden-metal-glass-rustic-wall-lamp--set-of-1-bulb-not-included/p-mp000000009125403', 'name': 'Homesake Golden Metal & Glass Rustic Wall Lamp - Set of 1 (Bulb not included)', 'price': '979.0', 'currencyRaw': '₹', 'currency': 'INR', 'regularPrice': '2900.0', 'metadata': {'probability': 0.7250847998163756}}, {'url': 'https://www.tatacliq.com/fos-lighting-brown-wood-long-bead-wall-lamp/p-mp000000019775296', 'name': 'Fos Lighting Brown Wood Long Bead Wall Lamp', 'price': '3980.0', 'currencyRaw': '₹', 'currency': 'INR', 'regularPrice': '4975.0', 'metadata': {'probability': 0.8018308925639452}}, {'url': 'https://www.tatacliq.com/homesake-mid-century-modern-metal-and-glass-wall-light-brushed-gold-amber-glass-wall-scone-trapezium/p-mp000000024758899', 'name': 'Homesake Mid-Century Modern Metal and Glass Wall Light Brushed Gold Amber Glass Wall Scone Trapezium', 'price': '1399.0', 'currencyRaw': '₹', 'currency': 'INR', 'regularPrice': '4600.0', 'metadata': {'probability': 0.7199631251086416}}, {'url': 'https://www.tatacliq.com/homesake-mid-century-modern-metal-and-glass-wall-light-wall-scone-metal-mesh-and-amber-glass/p-mp000000024758901', 'name': 'Homesake Mid-Century Modern Metal and Glass Wall Light Wall Scone Metal Mesh and Amber Glass', 'price': '1399.0', 'currencyRaw': '₹', 'currency': 'INR', 'regularPrice': '4600.0', 'metadata': {'probability': 0.7923789365541225}}, {'url': 'https://www.tatacliq.com/kapoor-lamp-shades-brass-antique-wall-light/p-mp000000023870443', 'name': 'Kapoor Lamp Shades Brass Antique Wall Light', 'price': '12960.0', 'currencyRaw': '₹', 'currency': 'INR', 'regularPrice': '14400.0', 'metadata': {'probability': 0.9132057417343553}}, {'url': 'https://www.tatacliq.com/kapoor-lamp-shades-glass-metal-locus-double-shade-wall-light/p-mp000000023870444', 'name': 'Kapoor Lamp Shades Glass & Metal Locus Double Shade Wall Light', 'price': '5790.0', 'currencyRaw': '₹', 'currency': 'INR', 'regularPrice': '9650.0', 'metadata': {'probability': 0.9077046511207492}}, {'url': 'https://www.tatacliq.com/kapoor-lamp-shades-glass-metal-martos-double-shade-wall-light/p-mp000000023870445', 'name': 'Kapoor Lamp Shades Glass & Metal Martos Double Shade Wall Light', 'price': '5490.0', 'currencyRaw': '₹', 'currency': 'INR', 'regularPrice': '9150.0', 'metadata': {'probability': 0.8451016720167779}}, {'url': 'https://www.tatacliq.com/fos-lighting-pink-blue-mild-steel-sconce-with-roses-textured-glass-shade/p-mp000000023649064', 'name': 'Fos Lighting Pink & Blue Mild Steel Sconce With Roses & Textured Glass Shade', 'price': '5500.0', 'currencyRaw': '₹', 'currency': 'INR', 'metadata': {'probability': 0.6359143762268822}}, {'url': 'https://www.tatacliq.com/decorativeray-white-wood-wall-light--set-of-1/p-mp000000010613508', 'name': 'DecorativeRay White Wood Wall Light - Set of 1', 'price': '1999.0', 'currencyRaw': '₹', 'currency': 'INR', 'regularPrice': '3099.0', 'metadata': {'probability': 0.8451359350272973}}, {'url': 'https://www.tatacliq.com/decorativeray-gold-iron-wall-light--set-of-1/p-mp000000010613521', 'name': 'DecorativeRay Gold Iron Wall Light - Set of 1', 'price': '2199.0', 'currencyRaw': '₹', 'currency': 'INR', 'regularPrice': '3499.0', 'metadata': {'probability': 0.8411391900519263}}, {'url': 'https://www.tatacliq.com/decorativeray-gold-iron-wall-light--set-of-1/p-mp000000010613522', 'name': 'DecorativeRay Gold Iron Wall Light - Set of 1', 'price': '1929.0', 'currencyRaw': '₹', 'currency': 'INR', 'regularPrice': '3099.0', 'metadata': {'probability': 0.8524425806901093}}, {'url': 'https://www.tatacliq.com/homesake-white-metal-vintage-wall-lamp/p-mp000000021307162', 'name': 'Homesake White Metal Vintage Wall Lamp', 'price': '910.0', 'currencyRaw': '₹', 'currency': 'INR', 'regularPrice': '3000.0', 'mainImage': {'url': 'https://www.tatacliq.com/src/general/components/img/orange-filled-star.svg'}, 'metadata': {'probability': 0.8207821509012092}}, {'url': 'https://www.tatacliq.com/kapoor-lamp-shades-glass-metal-locus-single-shade-wall-light/p-mp000000023870449', 'name': 'Kapoor Lamp Shades Glass & Metal Locus Single Shade Wall Light', 'price': '2690.0', 'currencyRaw': '₹', 'currency': 'INR', 'regularPrice': '4490.0', 'mainImage': {'url': 'https://www.tatacliq.com/src/general/components/img/green-filled-star.svg'}, 'metadata': {'probability': 0.9057080680539897}}, {'url': 'https://www.tatacliq.com/kapoor-lamp-shades-glass-mild-steel-cabus-2-light-bathroom-mirror-wall-light/p-mp000000023870454', 'name': 'Kapoor Lamp Shades Glass & Mild Steel Cabus 2 Light Bathroom Mirror Wall Light', 'price': '1990.0', 'currencyRaw': '₹', 'currency': 'INR', 'regularPrice': '4999.0', 'metadata': {'probability': 0.7591310263908468}}, {'url': 'https://www.tatacliq.com/fos-lighting-gold-mild-steel-sun-kissed-diamonds-dance-hand-cut-wall-light/p-mp000000023649066', 'name': 'Fos Lighting Gold Mild Steel Sun-Kissed Diamonds Dance Hand-Cut Wall Light', 'price': '9420.0', 'currencyRaw': '₹', 'currency': 'INR', 'regularPrice': '11775.0', 'metadata': {'probability': 0.7183562251170024}}]\n",
            "36\n"
          ]
        }
      ],
      "source": [
        "from base64 import b64decode\n",
        "import requests\n",
        "\n",
        "# Replace with your actual Zyte API Key\n",
        "\n",
        "\n",
        "api_response = requests.post(\n",
        "    \"https://api.zyte.com/v1/extract\",\n",
        "    auth=(Zyte_Api_Key, \"\"),\n",
        "    json={\n",
        "        \"url\": \"https://www.tatacliq.com/wall-lights/c-msh2216106/?q=:relevance:category:MSH2216106:inStockFlag:true\",\n",
        "        \"productList\": True,\n",
        "        \"actions\": [\n",
        "\n",
        "            {\n",
        "                \"action\": \"click\",\n",
        "                \"selector\": {\n",
        "                    \"type\": \"css\",  # or \"xpath\" depending on the selector you choose\n",
        "                    \"value\": \"button.ShowMoreButtonPlp__button\"\n",
        "                },\n",
        "                #\"waitForNavigation\": True,  # Optional: wait for navigation after clicking\n",
        "            },\n",
        "        ],\n",
        "    },\n",
        ")\n",
        "\n",
        "# Extracting the product list from the response\n",
        "products = api_response.json()['productList']['products']\n",
        "print(products)\n",
        "print(len(products))"
      ]
    },
    {
      "cell_type": "code",
      "execution_count": null,
      "metadata": {
        "id": "_t98buhAbeDN"
      },
      "outputs": [],
      "source": [
        "\n",
        "https://www.nike.com/in/w/running-37v7j"
      ]
    },
    {
      "cell_type": "code",
      "execution_count": null,
      "metadata": {
        "id": "VMN-iY28uigf"
      },
      "outputs": [],
      "source": [
        "from base64 import b64decode\n",
        "import requests\n",
        "\n",
        "# Replace with your actual Zyte API Key\n",
        "\n",
        "\n",
        "api_response = requests.post(\n",
        "    \"https://api.zyte.com/v1/extract\",\n",
        "    auth=(Zyte_Api_Key, \"\"),\n",
        "    json={\n",
        "        \"url\": \"https://www.nike.com/in/\",\n",
        "        \"productList\": True,\n",
        "        \"actions\": [\n",
        "             {\n",
        "                    \"action\": \"waitForTimeout\",\n",
        "                    \"timeout\": 5,\n",
        "                    \"onError\": \"return\"\n",
        "                },\n",
        "\n",
        "          {\n",
        "              \"action\": \"click\",\n",
        "              \"selector\": {\n",
        "                  \"type\": \"css\",\n",
        "                  \"value\": \"a[aria-label='Running']\",\n",
        "                  },\n",
        "\n",
        "          },\n",
        "                 {\n",
        "                    \"action\": \"waitForTimeout\",\n",
        "                    \"timeout\": 5,\n",
        "                    \"onError\": \"return\"\n",
        "                },\n",
        "\n",
        "            {\n",
        "                \"action\": \"scrollBottom\",\n",
        "\n",
        "            },\n",
        "        ],\n",
        "    },\n",
        ")\n",
        "\n"
      ]
    },
    {
      "cell_type": "code",
      "execution_count": null,
      "metadata": {
        "colab": {
          "base_uri": "https://localhost:8080/"
        },
        "id": "MZZcrkWYfeWK",
        "outputId": "47ea53eb-b007-4d21-abd4-23e0aa7b8545"
      },
      "outputs": [
        {
          "name": "stdout",
          "output_type": "stream",
          "text": [
            "200\n"
          ]
        }
      ],
      "source": [
        "\n",
        "print(api_response.status_code)\n"
      ]
    },
    {
      "cell_type": "code",
      "execution_count": null,
      "metadata": {
        "colab": {
          "base_uri": "https://localhost:8080/"
        },
        "id": "wQ0WYk96gcsF",
        "outputId": "84f06319-f99c-4aec-de2f-8f98fc55e361"
      },
      "outputs": [
        {
          "name": "stdout",
          "output_type": "stream",
          "text": [
            "{'url': 'https://www.nike.com/in/', 'statusCode': 200, 'productList': {'url': 'https://www.nike.com/in/', 'metadata': {'dateDownloaded': '2024-12-31T06:57:47Z'}, 'categoryName': 'Classics Spotlight'}, 'actions': [{'action': 'waitForTimeout', 'elapsedTime': 4.999, 'status': 'success'}, {'action': 'click', 'elapsedTime': 1.738, 'status': 'success'}, {'action': 'waitForTimeout', 'elapsedTime': 5, 'status': 'success'}, {'action': 'scrollBottom', 'elapsedTime': 1.503, 'status': 'success'}]}\n"
          ]
        }
      ],
      "source": [
        "# Extracting the product list from the response\n",
        "# products = api_response.json()['productList']['products']\n",
        "print(api_response.json())\n",
        "# print(len(products))"
      ]
    },
    {
      "cell_type": "markdown",
      "metadata": {
        "id": "yLNbWi3ttTyy"
      },
      "source": [
        "## Module 2: Basic Extraction Techniques\n",
        "\n",
        "- Chapter 3: Static vs Dynamic Content\n",
        "- Chapter 4: Geolocation & Regional Data\n",
        "\n"
      ]
    },
    {
      "cell_type": "markdown",
      "metadata": {
        "id": "FgW-BtKPukQt"
      },
      "source": [
        "### Chapter 3: Static vs Dynamic Content"
      ]
    },
    {
      "cell_type": "code",
      "execution_count": null,
      "metadata": {
        "colab": {
          "base_uri": "https://localhost:8080/"
        },
        "id": "Tc-IsdbDu-eM",
        "outputId": "d31d88ad-8010-4731-8bb3-ddd70cbca3e4"
      },
      "outputs": [
        {
          "name": "stdout",
          "output_type": "stream",
          "text": [
            "{'name': 'Minimalist Space Posters', 'mainImage': {'url': 'https://cdn.prod.website-files.com/5c6c5d537c647f619adce5fc/5eea68fcdbde355322ab077a_Screen%20Shot%202020-06-17%20at%2012.01.45%20PM.png'}, 'description': \"Minimalist space posters showcasing cosmological topography and the greatest of humanity's space endeavors. Starting at $49.99\", 'url': 'https://www.spaceposters.co/', 'canonicalUrl': 'https://www.spaceposters.co//', 'metadata': {'probability': 0.011791097931563854, 'dateDownloaded': '2025-01-20T05:36:37Z'}}\n",
            "{'name': \"Women's Fashion Clothing\", 'breadcrumbs': [{'name': 'Home', 'url': 'https://us.vestiairecollective.com/'}, {'name': \"Women's Fashion Clothing\"}], 'description': \"Discover pre-owned Women's Clothing, Luxury and Fashion Designer brands at up to 70% off\", 'aggregateRating': {'ratingValue': 4.5, 'reviewCount': 44885}, 'url': 'https://us.vestiairecollective.com/women/', 'canonicalUrl': 'https://us.vestiairecollective.com/women/', 'metadata': {'probability': 0.012635023333132267, 'dateDownloaded': '2025-01-20T05:36:42Z'}}\n"
          ]
        }
      ],
      "source": [
        "from base64 import b64decode\n",
        "\n",
        "import requests\n",
        "\n",
        "api_response = requests.post(\n",
        "    \"https://api.zyte.com/v1/extract\",\n",
        "    auth=(Zyte_Api_Key, \"\"),\n",
        "    json={\n",
        "        \"url\": \"https://www.spaceposters.co/\",\n",
        "        \"product\" : True\n",
        "    },\n",
        ")\n",
        "\n",
        "product = api_response.json()['product']\n",
        "print(product)"
      ]
    },
    {
      "cell_type": "code",
      "execution_count": null,
      "metadata": {
        "id": "Midwcx_gNoLl"
      },
      "outputs": [],
      "source": [
        "# dynamic\n",
        "from base64 import b64decode\n",
        "\n",
        "import requests\n",
        "\n",
        "api_response = requests.post(\n",
        "    \"https://api.zyte.com/v1/extract\",\n",
        "    auth=(Zyte_Api_Key, \"\"),\n",
        "    json={\n",
        "        \"browserHtml\": True,\n",
        "        \"url\": \"https://www.vestiairecollective.com/women/\",\n",
        "        \"product\" : True\n",
        "    },\n",
        ")\n",
        "\n",
        "product = api_response.json()['product']\n",
        "print(product)"
      ]
    },
    {
      "cell_type": "markdown",
      "metadata": {
        "id": "kEAiq4oOupR0"
      },
      "source": [
        "### Chapter 4: Geolocation & Regional Data"
      ]
    },
    {
      "cell_type": "code",
      "execution_count": null,
      "metadata": {
        "colab": {
          "base_uri": "https://localhost:8080/",
          "height": 216
        },
        "id": "ybp5DTy_NxlN",
        "outputId": "03b1468e-e2fe-4671-b2d6-11decf31223e"
      },
      "outputs": [
        {
          "output_type": "error",
          "ename": "NameError",
          "evalue": "name 'Zyte_Api_Key' is not defined",
          "traceback": [
            "\u001b[0;31m---------------------------------------------------------------------------\u001b[0m",
            "\u001b[0;31mNameError\u001b[0m                                 Traceback (most recent call last)",
            "\u001b[0;32m<ipython-input-1-48e8f59f1c91>\u001b[0m in \u001b[0;36m<cell line: 0>\u001b[0;34m()\u001b[0m\n\u001b[1;32m      5\u001b[0m api_response = requests.post(\n\u001b[1;32m      6\u001b[0m     \u001b[0;34m\"https://api.zyte.com/v1/extract\"\u001b[0m\u001b[0;34m,\u001b[0m\u001b[0;34m\u001b[0m\u001b[0;34m\u001b[0m\u001b[0m\n\u001b[0;32m----> 7\u001b[0;31m     \u001b[0mauth\u001b[0m\u001b[0;34m=\u001b[0m\u001b[0;34m(\u001b[0m\u001b[0mZyte_Api_Key\u001b[0m\u001b[0;34m,\u001b[0m \u001b[0;34m\"\"\u001b[0m\u001b[0;34m)\u001b[0m\u001b[0;34m,\u001b[0m\u001b[0;34m\u001b[0m\u001b[0;34m\u001b[0m\u001b[0m\n\u001b[0m\u001b[1;32m      8\u001b[0m     json={\n\u001b[1;32m      9\u001b[0m   \u001b[0;34m\"url\"\u001b[0m\u001b[0;34m:\u001b[0m \u001b[0;34m\"https://www.amazon.com/b/?ie=UTF8&node=11058691\"\u001b[0m\u001b[0;34m,\u001b[0m\u001b[0;34m\u001b[0m\u001b[0;34m\u001b[0m\u001b[0m\n",
            "\u001b[0;31mNameError\u001b[0m: name 'Zyte_Api_Key' is not defined"
          ]
        }
      ],
      "source": [
        "from base64 import b64decode\n",
        "\n",
        "import requests\n",
        "\n",
        "api_response = requests.post(\n",
        "    \"https://api.zyte.com/v1/extract\",\n",
        "    auth=(Zyte_Api_Key, \"\"),\n",
        "    json={\n",
        "  \"url\": \"https://www.amazon.com/b/?ie=UTF8&node=11058691\",\n",
        "  \"actions\": [\n",
        "    {\n",
        "      \"action\": \"setLocation\",\n",
        "      \"onError\": \"return\",\n",
        "      \"address\": {\n",
        "        \"postalCode\": \"11001\"\n",
        "      }\n",
        "    }\n",
        "  ],\n",
        "  \"browserHtml\": True\n",
        "},\n",
        ")\n",
        "\n",
        "product = api_response.json()\n",
        "print(product)"
      ]
    },
    {
      "cell_type": "markdown",
      "metadata": {
        "id": "opSMdRaslcwo"
      },
      "source": []
    },
    {
      "cell_type": "markdown",
      "metadata": {
        "id": "_gjONMpht4Zq"
      },
      "source": [
        "## Module 3: Dynamic Content Handling\n",
        "\n",
        "- Chapter 5: Infinite Scroll Mastery\n",
        "- Chapter 6: Interactive Elements\n",
        "\n"
      ]
    },
    {
      "cell_type": "code",
      "execution_count": null,
      "metadata": {
        "id": "H3s_ImMTvLf1"
      },
      "outputs": [],
      "source": []
    },
    {
      "cell_type": "markdown",
      "metadata": {
        "id": "pcaxoqSyvmaq"
      },
      "source": [
        "### Chapter 5: Infinite Scroll Mastery\n",
        "\n"
      ]
    },
    {
      "cell_type": "code",
      "execution_count": null,
      "metadata": {
        "colab": {
          "base_uri": "https://localhost:8080/"
        },
        "id": "kko5xC_Ke2P7",
        "outputId": "0864fb7b-8e82-4c39-a4cb-fe219f0eaf26"
      },
      "outputs": [
        {
          "name": "stdout",
          "output_type": "stream",
          "text": [
            "{'author': 'Albert Einstein', 'tags': ['change', 'deep-thoughts', 'thinking', 'world'], 'text': 'The world as we have created it is a process of our thinking. It cannot be changed without changing our thinking.'}\n",
            "{'author': 'J.K. Rowling', 'tags': ['abilities', 'choices'], 'text': 'It is our choices, Harry, that show what we truly are, far more than our abilities.'}\n",
            "{'author': 'Albert Einstein', 'tags': ['inspirational', 'life', 'live', 'miracle', 'miracles'], 'text': 'There are only two ways to live your life. One is as though nothing is a miracle. The other is as though everything is a miracle.'}\n",
            "{'author': 'Jane Austen', 'tags': ['aliteracy', 'books', 'classic', 'humor'], 'text': 'The person, be it gentleman or lady, who has not pleasure in a good novel, must be intolerably stupid.'}\n",
            "{'author': 'Marilyn Monroe', 'tags': ['be-yourself', 'inspirational'], 'text': \"Imperfection is beauty, madness is genius and it's better to be absolutely ridiculous than absolutely boring.\"}\n",
            "{'author': 'Albert Einstein', 'tags': ['adulthood', 'success', 'value'], 'text': 'Try not to become a man of success. Rather become a man of value.'}\n",
            "{'author': 'André Gide', 'tags': ['life', 'love'], 'text': 'It is better to be hated for what you are than to be loved for what you are not.'}\n",
            "{'author': 'Thomas A. Edison', 'tags': ['edison', 'failure', 'inspirational', 'paraphrased'], 'text': \"I have not failed. I've just found 10,000 ways that won't work.\"}\n",
            "{'author': 'Eleanor Roosevelt', 'tags': ['misattributed-eleanor-roosevelt'], 'text': \"A woman is like a tea bag; you never know how strong it is until it's in hot water.\"}\n",
            "{'author': 'Steve Martin', 'tags': ['humor', 'obvious', 'simile'], 'text': 'A day without sunshine is like, you know, night.'}\n",
            "{'author': 'Marilyn Monroe', 'tags': ['friends', 'heartbreak', 'inspirational', 'life', 'love', 'sisters'], 'text': \"This life is what you make it. No matter what, you're going to mess up sometimes, it's a universal truth. But the good part is you get to decide how you're going to mess it up. Girls will be your friends - they'll act like it anyway. But just remember, some come, some go. The ones that stay with you through everything - they're your true best friends. Don't let go of them. Also remember, sisters make the best friends in the world. As for lovers, well, they'll come and go too. And baby, I hate to say it, most of them - actually pretty much all of them are going to break your heart, but you can't give up because if you give up, you'll never find your soulmate. You'll never find that half who makes you whole and that goes for everything. Just because you fail once, doesn't mean you're gonna fail at everything. Keep trying, hold on, and always, always, always believe in yourself, because if you don't, then who will, sweetie? So keep your head high, keep your chin up, and most importantly, keep smiling, because life's a beautiful thing and there's so much to smile about.\"}\n",
            "{'author': 'J.K. Rowling', 'tags': ['courage', 'friends'], 'text': 'It takes a great deal of bravery to stand up to our enemies, but just as much to stand up to our friends.'}\n",
            "{'author': 'Albert Einstein', 'tags': ['simplicity', 'understand'], 'text': \"If you can't explain it to a six year old, you don't understand it yourself.\"}\n",
            "{'author': 'Bob Marley', 'tags': ['love'], 'text': \"You may not be her first, her last, or her only. She loved before she may love again. But if she loves you now, what else matters? She's not perfect—you aren't either, and the two of you may never be perfect together but if she can make you laugh, cause you to think twice, and admit to being human and making mistakes, hold onto her and give her the most you can. She may not be thinking about you every second of the day, but she will give you a part of her that she knows you can break—her heart. So don't hurt her, don't change her, don't analyze and don't expect more than she can give. Smile when she makes you happy, let her know when she makes you mad, and miss her when she's not there.\"}\n",
            "{'author': 'Dr. Seuss', 'tags': ['fantasy'], 'text': 'I like nonsense, it wakes up the brain cells. Fantasy is a necessary ingredient in living.'}\n",
            "{'author': 'Douglas Adams', 'tags': ['life', 'navigation'], 'text': 'I may not have gone where I intended to go, but I think I have ended up where I needed to be.'}\n",
            "{'author': 'Elie Wiesel', 'tags': ['activism', 'apathy', 'hate', 'indifference', 'inspirational', 'love', 'opposite', 'philosophy'], 'text': \"The opposite of love is not hate, it's indifference. The opposite of art is not ugliness, it's indifference. The opposite of faith is not heresy, it's indifference. And the opposite of life is not death, it's indifference.\"}\n",
            "{'author': 'Friedrich Nietzsche', 'tags': ['friendship', 'lack-of-friendship', 'lack-of-love', 'love', 'marriage', 'unhappy-marriage'], 'text': 'It is not a lack of love, but a lack of friendship that makes unhappy marriages.'}\n",
            "{'author': 'Mark Twain', 'tags': ['books', 'contentment', 'friends', 'friendship', 'life'], 'text': 'Good friends, good books, and a sleepy conscience: this is the ideal life.'}\n",
            "{'author': 'Allen Saunders', 'tags': ['fate', 'life', 'misattributed-john-lennon', 'planning', 'plans'], 'text': 'Life is what happens to us while we are making other plans.'}\n",
            "{'author': 'Pablo Neruda', 'tags': ['love', 'poetry'], 'text': 'I love you without knowing how, or when, or from where. I love you simply, without problems or pride: I love you in this way because I do not know any other way of loving but this, in which there is no I or you, so intimate that your hand upon my chest is my hand, so intimate that when I fall asleep your eyes close.'}\n",
            "{'author': 'Ralph Waldo Emerson', 'tags': ['happiness'], 'text': 'For every minute you are angry you lose sixty seconds of happiness.'}\n",
            "{'author': 'Mother Teresa', 'tags': ['attributed-no-source'], 'text': 'If you judge people, you have no time to love them.'}\n",
            "{'author': 'Garrison Keillor', 'tags': ['humor', 'religion'], 'text': 'Anyone who thinks sitting in church can make you a Christian must also think that sitting in a garage can make you a car.'}\n",
            "{'author': 'Jim Henson', 'tags': ['humor'], 'text': 'Beauty is in the eye of the beholder and it may be necessary from time to time to give a stupid or misinformed beholder a black eye.'}\n",
            "{'author': 'Dr. Seuss', 'tags': ['comedy', 'life', 'yourself'], 'text': 'Today you are You, that is truer than true. There is no one alive who is Youer than You.'}\n",
            "{'author': 'Albert Einstein', 'tags': ['children', 'fairy-tales'], 'text': 'If you want your children to be intelligent, read them fairy tales. If you want them to be more intelligent, read them more fairy tales.'}\n",
            "{'author': 'J.K. Rowling', 'tags': [], 'text': 'It is impossible to live without failing at something, unless you live so cautiously that you might as well not have lived at all - in which case, you fail by default.'}\n",
            "{'author': 'Albert Einstein', 'tags': ['imagination'], 'text': 'Logic will get you from A to Z; imagination will get you everywhere.'}\n",
            "{'author': 'Bob Marley', 'tags': ['music'], 'text': 'One good thing about music, when it hits you, you feel no pain.'}\n",
            "{'author': 'Dr. Seuss', 'tags': ['learning', 'reading', 'seuss'], 'text': \"The more that you read, the more things you will know. The more that you learn, the more places you'll go.\"}\n",
            "{'author': 'J.K. Rowling', 'tags': ['dumbledore'], 'text': 'Of course it is happening inside your head, Harry, but why on earth should that mean that it is not real?'}\n",
            "{'author': 'Bob Marley', 'tags': ['friendship'], 'text': 'The truth is, everyone is going to hurt you. You just got to find the ones worth suffering for.'}\n",
            "{'author': 'Mother Teresa', 'tags': ['misattributed-to-mother-teresa', 'paraphrased'], 'text': 'Not all of us can do great things. But we can do small things with great love.'}\n",
            "{'author': 'J.K. Rowling', 'tags': ['death', 'inspirational'], 'text': 'To the well-organized mind, death is but the next great adventure.'}\n",
            "{'author': 'Charles M. Schulz', 'tags': ['chocolate', 'food', 'humor'], 'text': \"All you need is love. But a little chocolate now and then doesn't hurt.\"}\n",
            "{'author': 'William Nicholson', 'tags': ['misattributed-to-c-s-lewis', 'reading'], 'text': \"We read to know we're not alone.\"}\n",
            "{'author': 'Albert Einstein', 'tags': ['knowledge', 'learning', 'understanding', 'wisdom'], 'text': 'Any fool can know. The point is to understand.'}\n",
            "{'author': 'Jorge Luis Borges', 'tags': ['books', 'library'], 'text': 'I have always imagined that Paradise will be a kind of library.'}\n",
            "{'author': 'George Eliot', 'tags': ['inspirational'], 'text': 'It is never too late to be what you might have been.'}\n",
            "{'author': 'Jane Austen', 'tags': ['friendship', 'love'], 'text': 'There is nothing I would not do for those who are really my friends. I have no notion of loving people by halves, it is not my nature.'}\n",
            "{'author': 'Eleanor Roosevelt', 'tags': ['attributed', 'fear', 'inspiration'], 'text': 'Do one thing every day that scares you.'}\n",
            "{'author': 'Marilyn Monroe', 'tags': ['attributed-no-source'], 'text': 'I am good, but not an angel. I do sin, but I am not the devil. I am just a small girl in a big world trying to find someone to love.'}\n",
            "{'author': 'Albert Einstein', 'tags': ['music'], 'text': 'If I were not a physicist, I would probably be a musician. I often think in music. I live my daydreams in music. I see my life in terms of music.'}\n",
            "{'author': 'Haruki Murakami', 'tags': ['books', 'thought'], 'text': 'If you only read the books that everyone else is reading, you can only think what everyone else is thinking.'}\n",
            "{'author': 'Alexandre Dumas fils', 'tags': ['misattributed-to-einstein'], 'text': 'The difference between genius and stupidity is: genius has its limits.'}\n",
            "{'author': 'Stephenie Meyer', 'tags': ['drug', 'romance', 'simile'], 'text': \"He's like a drug for you, Bella.\"}\n",
            "{'author': 'Ernest Hemingway', 'tags': ['books', 'friends', 'novelist-quotes'], 'text': 'There is no friend as loyal as a book.'}\n",
            "{'author': 'Helen Keller', 'tags': ['inspirational'], 'text': 'When one door of happiness closes, another opens; but often we look so long at the closed door that we do not see the one which has been opened for us.'}\n",
            "{'author': 'George Bernard Shaw', 'tags': ['inspirational', 'life', 'yourself'], 'text': \"Life isn't about finding yourself. Life is about creating yourself.\"}\n",
            "{'author': 'George R.R. Martin', 'tags': ['read', 'readers', 'reading', 'reading-books'], 'text': 'A reader lives a thousand lives before he dies, said Jojen. The man who never reads lives only one.'}\n",
            "{'author': 'C.S. Lewis', 'tags': ['books', 'inspirational', 'reading', 'tea'], 'text': 'You can never get a cup of tea large enough or a book long enough to suit me.'}\n",
            "{'author': 'Marilyn Monroe', 'tags': [], 'text': 'You believe lies so you eventually learn to trust no one but yourself.'}\n",
            "{'author': 'Marilyn Monroe', 'tags': ['girls', 'love'], 'text': 'If you can make a woman laugh, you can make her do anything.'}\n",
            "{'author': 'Albert Einstein', 'tags': ['life', 'simile'], 'text': 'Life is like riding a bicycle. To keep your balance, you must keep moving.'}\n",
            "{'author': 'Marilyn Monroe', 'tags': ['love'], 'text': 'The real lover is the man who can thrill you by kissing your forehead or smiling into your eyes or just staring into space.'}\n",
            "{'author': 'Marilyn Monroe', 'tags': ['attributed-no-source'], 'text': \"A wise girl kisses but doesn't love, listens but doesn't believe, and leaves before she is left.\"}\n",
            "{'author': 'Martin Luther King Jr.', 'tags': ['hope', 'inspirational'], 'text': 'Only in the darkness can you see the stars.'}\n",
            "{'author': 'J.K. Rowling', 'tags': ['dumbledore'], 'text': 'It matters not what someone is born, but what they grow to be.'}\n",
            "{'author': 'James Baldwin', 'tags': ['love'], 'text': 'Love does not begin and end the way we seem to think it does. Love is a battle, love is a war; love is a growing up.'}\n",
            "{'author': 'Charles Bukowski', 'tags': ['alcohol'], 'text': \"That's the problem with drinking, I thought, as I poured myself a drink. If something bad happens you drink in an attempt to forget; if something good happens you drink in order to celebrate; and if nothing happens you drink to make something happen.\"}\n",
            "{'author': 'Suzanne Collins', 'tags': ['the-hunger-games'], 'text': 'You don’t forget the face of the person who was your last hope.'}\n",
            "{'author': 'Suzanne Collins', 'tags': ['humor'], 'text': \"Remember, we're madly in love, so it's all right to kiss me anytime you feel like it.\"}\n",
            "{'author': 'C.S. Lewis', 'tags': ['love'], 'text': 'To love at all is to be vulnerable. Love anything and your heart will be wrung and possibly broken. If you want to make sure of keeping it intact you must give it to no one, not even an animal. Wrap it carefully round with hobbies and little luxuries; avoid all entanglements. Lock it up safe in the casket or coffin of your selfishness. But in that casket, safe, dark, motionless, airless, it will change. It will not be broken; it will become unbreakable, impenetrable, irredeemable. To love is to be vulnerable.'}\n",
            "{'author': 'J.R.R. Tolkien', 'tags': ['bilbo', 'journey', 'lost', 'quest', 'travel', 'wander'], 'text': 'Not all those who wander are lost.'}\n",
            "{'author': 'J.K. Rowling', 'tags': ['live-death-love'], 'text': 'Do not pity the dead, Harry. Pity the living, and, above all those who live without love.'}\n",
            "{'author': 'Ernest Hemingway', 'tags': ['good', 'writing'], 'text': 'There is nothing to writing. All you do is sit down at a typewriter and bleed.'}\n",
            "{'author': 'Ralph Waldo Emerson', 'tags': ['life', 'regrets'], 'text': 'Finish each day and be done with it. You have done what you could. Some blunders and absurdities no doubt crept in; forget them as soon as you can. Tomorrow is a new day. You shall begin it serenely and with too high a spirit to be encumbered with your old nonsense.'}\n",
            "{'author': 'Mark Twain', 'tags': ['education'], 'text': 'I have never let my schooling interfere with my education.'}\n",
            "{'author': 'Dr. Seuss', 'tags': ['troubles'], 'text': \"I have heard there are troubles of more than one kind. Some come from ahead and some come from behind. But I've bought a big bat. I'm all ready you see. Now my troubles are going to have troubles with me!\"}\n",
            "{'author': 'Alfred Tennyson', 'tags': ['friendship', 'love'], 'text': 'If I had a flower for every time I thought of you...I could walk through my garden forever.'}\n",
            "{'author': 'Charles Bukowski', 'tags': ['humor'], 'text': 'Some people never go crazy. What truly horrible lives they must lead.'}\n",
            "{'author': 'Terry Pratchett', 'tags': ['humor', 'open-mind', 'thinking'], 'text': 'The trouble with having an open mind, of course, is that people will insist on coming along and trying to put things in it.'}\n",
            "{'author': 'Dr. Seuss', 'tags': ['humor', 'philosophy'], 'text': 'Think left and think right and think low and think high. Oh, the thinks you can think up if only you try!'}\n",
            "{'author': 'J.D. Salinger', 'tags': ['authors', 'books', 'literature', 'reading', 'writing'], 'text': \"What really knocks me out is a book that, when you're all done reading it, you wish the author that wrote it was a terrific friend of yours and you could call him up on the phone whenever you felt like it. That doesn't happen much, though.\"}\n",
            "{'author': 'George Carlin', 'tags': ['humor', 'insanity', 'lies', 'lying', 'self-indulgence', 'truth'], 'text': 'The reason I talk to myself is because I’m the only one whose answers I accept.'}\n",
            "{'author': 'John Lennon', 'tags': ['beatles', 'connection', 'dreamers', 'dreaming', 'dreams', 'hope', 'inspirational', 'peace'], 'text': \"You may say I'm a dreamer, but I'm not the only one. I hope someday you'll join us. And the world will live as one.\"}\n",
            "{'author': 'W.C. Fields', 'tags': ['humor', 'sinister'], 'text': 'I am free of all prejudice. I hate everyone equally. '}\n",
            "{'author': 'Ayn Rand', 'tags': [], 'text': \"The question isn't who is going to let me; it's who is going to stop me.\"}\n",
            "{'author': 'Mark Twain', 'tags': ['books', 'classic', 'reading'], 'text': \"′Classic′ - a book which people praise and don't read.\"}\n",
            "{'author': 'Albert Einstein', 'tags': ['mistakes'], 'text': 'Anyone who has never made a mistake has never tried anything new.'}\n",
            "{'author': 'Jane Austen', 'tags': ['humor', 'love', 'romantic', 'women'], 'text': \"A lady's imagination is very rapid; it jumps from admiration to love, from love to matrimony in a moment.\"}\n",
            "{'author': 'J.K. Rowling', 'tags': ['integrity'], 'text': 'Remember, if the time should come when you have to make a choice between what is right and what is easy, remember what happened to a boy who was good, and kind, and brave, because he strayed across the path of Lord Voldemort. Remember Cedric Diggory.'}\n",
            "{'author': 'Jane Austen', 'tags': ['books', 'library', 'reading'], 'text': 'I declare after all there is no enjoyment like reading! How much sooner one tires of any thing than of a book! -- When I have a house of my own, I shall be miserable if I have not an excellent library.'}\n",
            "{'author': 'Jane Austen', 'tags': ['elizabeth-bennet', 'jane-austen'], 'text': 'There are few people whom I really love, and still fewer of whom I think well. The more I see of the world, the more am I dissatisfied with it; and every day confirms my belief of the inconsistency of all human characters, and of the little dependence that can be placed on the appearance of merit or sense.'}\n",
            "{'author': 'C.S. Lewis', 'tags': ['age', 'fairytales', 'growing-up'], 'text': 'Some day you will be old enough to start reading fairy tales again.'}\n",
            "{'author': 'C.S. Lewis', 'tags': ['god'], 'text': 'We are not necessarily doubting that God will do the best for us; we are wondering how painful the best will turn out to be.'}\n",
            "{'author': 'Mark Twain', 'tags': ['death', 'life'], 'text': 'The fear of death follows from the fear of life. A man who lives fully is prepared to die at any time.'}\n",
            "{'author': 'Mark Twain', 'tags': ['misattributed-mark-twain', 'truth'], 'text': 'A lie can travel half way around the world while the truth is putting on its shoes.'}\n",
            "{'author': 'C.S. Lewis', 'tags': ['christianity', 'faith', 'religion', 'sun'], 'text': 'I believe in Christianity as I believe that the sun has risen: not only because I see it, but because by it I see everything else.'}\n",
            "{'author': 'J.K. Rowling', 'tags': ['truth'], 'text': 'The truth.\" Dumbledore sighed. \"It is a beautiful and terrible thing, and should therefore be treated with great caution.'}\n",
            "{'author': 'Jimi Hendrix', 'tags': ['death', 'life'], 'text': \"I'm the one that's got to die when it's time for me to die, so let me live my life the way I want to.\"}\n",
            "{'author': 'J.M. Barrie', 'tags': ['adventure', 'love'], 'text': 'To die will be an awfully big adventure.'}\n",
            "{'author': 'E.E. Cummings', 'tags': ['courage'], 'text': 'It takes courage to grow up and become who you really are.'}\n",
            "{'author': 'Khaled Hosseini', 'tags': ['life'], 'text': 'But better to get hurt by the truth than comforted with a lie.'}\n",
            "{'author': 'Harper Lee', 'tags': ['better-life-empathy'], 'text': 'You never really understand a person until you consider things from his point of view... Until you climb inside of his skin and walk around in it.'}\n",
            "{'author': \"Madeleine L'Engle\", 'tags': ['books', 'children', 'difficult', 'grown-ups', 'write', 'writers', 'writing'], 'text': 'You have to write the book that wants to be written. And if the book will be too difficult for grown-ups, then you write it for children.'}\n",
            "{'author': 'Mark Twain', 'tags': ['truth'], 'text': 'Never tell the truth to people who are not worthy of it.'}\n",
            "{'author': 'Dr. Seuss', 'tags': ['inspirational'], 'text': \"A person's a person, no matter how small.\"}\n",
            "{'author': 'George R.R. Martin', 'tags': ['books', 'mind'], 'text': '... a mind needs books as a sword needs a whetstone, if it is to keep its edge.'}\n"
          ]
        }
      ],
      "source": [
        "from base64 import b64decode\n",
        "from parsel import Selector\n",
        "import requests\n",
        "\n",
        "api_response = requests.post(\n",
        "    \"https://api.zyte.com/v1/extract\",\n",
        "    auth=(Zyte_Api_Key, \"\"),\n",
        "    json={\n",
        "        \"url\": \"http://quotes.toscrape.com/scroll\",\n",
        "        \"browserHtml\": True,\n",
        "        \"actions\": [\n",
        "            {\n",
        "                \"action\": \"scrollBottom\",\n",
        "            },\n",
        "        ]\n",
        "\n",
        "    },\n",
        ")\n",
        "\n",
        "if api_response.status_code == 200:\n",
        "    html_response = api_response.json().get('browserHtml', \"\")\n",
        "\n",
        "    # Parse HTML with Parsel\n",
        "    selector = Selector(html_response)\n",
        "\n",
        "    # Extract data using CSS selectors\n",
        "    for quote in selector.css(\".quote\"):\n",
        "        data = {\n",
        "            \"author\": quote.css(\".author::text\").get(),\n",
        "            \"tags\": quote.css(\".tag::text\").getall(),\n",
        "            \"text\": quote.css(\".text::text\").get()[1:-1],\n",
        "        }\n",
        "        print(data)\n",
        "else:\n",
        "    print(f\"Failed to fetch data: {api_response.status_code}\")"
      ]
    },
    {
      "cell_type": "markdown",
      "metadata": {
        "id": "t-SysrdpvmDT"
      },
      "source": [
        "### Chapter 6: Interactive Elements"
      ]
    },
    {
      "cell_type": "markdown",
      "metadata": {
        "id": "3lR6YZKFt4Mi"
      },
      "source": [
        "## Module 4: Data Extraction Strategies\n",
        "\n",
        "- Chapter 7: Dynamic Tables & Structured Data\n",
        "- Chapter 8: Pagination Strategies\n",
        "\n"
      ]
    },
    {
      "cell_type": "markdown",
      "metadata": {
        "id": "OVmowVmLwEpA"
      },
      "source": [
        "### Chapter 7: Dynamic Tables & Structured Data"
      ]
    },
    {
      "cell_type": "code",
      "execution_count": null,
      "metadata": {
        "id": "8IIcSKt5wIiQ"
      },
      "outputs": [],
      "source": []
    },
    {
      "cell_type": "markdown",
      "metadata": {
        "id": "9nRyQso3wI1R"
      },
      "source": [
        "### Chapter 8: Pagination Strategies"
      ]
    },
    {
      "cell_type": "markdown",
      "metadata": {
        "id": "ELMX9jh3uFIl"
      },
      "source": [
        "## Module 5: Advanced Interaction Patterns\n",
        "\n",
        "- Chapter 9: Complex User Behavior Simulation\n",
        "- Chapter 10: Form Handling & Data Submission\n",
        "\n"
      ]
    },
    {
      "cell_type": "markdown",
      "metadata": {
        "id": "7pH0FKvkUaFE"
      },
      "source": []
    },
    {
      "cell_type": "markdown",
      "metadata": {
        "id": "XG00jHXMvtzM"
      },
      "source": [
        "### Chapter 9: Complex User Behavior Simulation"
      ]
    },
    {
      "cell_type": "code",
      "execution_count": null,
      "metadata": {
        "id": "xM_1IhzTvtf7"
      },
      "outputs": [],
      "source": []
    },
    {
      "cell_type": "markdown",
      "metadata": {
        "id": "2aB3rR-EvxPr"
      },
      "source": [
        "### Chapter 10: Form Handling & Data Submission"
      ]
    },
    {
      "cell_type": "code",
      "execution_count": null,
      "metadata": {
        "colab": {
          "base_uri": "https://localhost:8080/"
        },
        "id": "4Vxg1KknhhuY",
        "outputId": "a0192627-7e39-4e5e-8c95-8f1dad437b37"
      },
      "outputs": [
        {
          "name": "stdout",
          "output_type": "stream",
          "text": [
            "{'author': 'Albert Einstein', 'tags': ['world'], 'text': 'The world as we have created it is a process of our thinking. It cannot be changed without changing our thinking.'}\n"
          ]
        }
      ],
      "source": [
        "from parsel import Selector\n",
        "import requests\n",
        "\n",
        "# Define the payload for the Zyte API request\n",
        "payload = {\n",
        "    \"url\": \"http://quotes.toscrape.com/search.aspx\",\n",
        "    \"browserHtml\": True,\n",
        "    \"actions\": [\n",
        "        {\n",
        "            \"action\": \"select\",\n",
        "            \"selector\": {\"type\": \"css\", \"value\": \"#author\"},\n",
        "            \"values\": [\"Albert Einstein\"],\n",
        "        },\n",
        "        {\n",
        "            \"action\": \"waitForSelector\",\n",
        "            \"selector\": {\"type\": \"css\", \"value\": \"[value=\\\"world\\\"]\", \"state\": \"attached\"},\n",
        "        },\n",
        "        {\n",
        "            \"action\": \"select\",\n",
        "            \"selector\": {\"type\": \"css\", \"value\": \"#tag\"},\n",
        "            \"values\": [\"world\"],\n",
        "        },\n",
        "        {\n",
        "            \"action\": \"click\",\n",
        "            \"selector\": {\"type\": \"css\", \"value\": \"[type='submit']\"},\n",
        "        },\n",
        "        {\n",
        "            \"action\": \"waitForSelector\",\n",
        "            \"selector\": {\"type\": \"css\", \"value\": \".quote\"},\n",
        "        },\n",
        "    ],\n",
        "}\n",
        "\n",
        "# Send the request to the Zyte API\n",
        "response = requests.post(\n",
        "    \"https://api.zyte.com/v1/extract\",\n",
        "    auth=(Zyte_Api_Key, \"\"),\n",
        "    json=payload,\n",
        ")\n",
        "\n",
        "# Check for a successful response\n",
        "if response.status_code == 200:\n",
        "    # Get the HTML content from the Zyte API response\n",
        "    html_response = response.json().get('browserHtml', \"\")\n",
        "\n",
        "    # Parse the HTML content\n",
        "    selector = Selector(html_response)\n",
        "\n",
        "    # Extract and print data using CSS selectors\n",
        "    for quote in selector.css(\".quote\"):\n",
        "        data = {\n",
        "            \"author\": quote.css(\".author::text\").get(),\n",
        "            \"tags\": quote.css(\".tag::text\").getall(),\n",
        "            \"text\": quote.css(\".content::text\").get()[1:-1],\n",
        "        }\n",
        "        print(data)\n",
        "else:\n",
        "    print(f\"Failed to fetch data: {response.status_code}\")\n"
      ]
    },
    {
      "cell_type": "markdown",
      "metadata": {
        "id": "C5__Ku9yuT2b"
      },
      "source": [
        "## Module 6: Advanced Technical Extraction\n",
        "\n",
        "- Chapter 11: API & Network Requests\n",
        "- Chapter 12: Hidden Content & iframes"
      ]
    },
    {
      "cell_type": "markdown",
      "metadata": {
        "id": "BiY2j1VlwR9X"
      },
      "source": [
        "### Chapter 11: API & Network Requests"
      ]
    },
    {
      "cell_type": "code",
      "execution_count": null,
      "metadata": {
        "colab": {
          "base_uri": "https://localhost:8080/"
        },
        "id": "pZbANRY2sZ2x",
        "outputId": "00b6e740-0ba1-4726-f2b3-a3298282147a"
      },
      "outputs": [
        {
          "name": "stdout",
          "output_type": "stream",
          "text": [
            "{'author': 'Albert Einstein', 'tags': ['change', 'deep-thoughts', 'thinking', 'world'], 'text': '“The world as we have created it is a process of our thinking. It cannot be changed without changing our thinking.”'}\n",
            "{'author': 'J.K. Rowling', 'tags': ['abilities', 'choices'], 'text': '“It is our choices, Harry, that show what we truly are, far more than our abilities.”'}\n",
            "{'author': 'Albert Einstein', 'tags': ['inspirational', 'life', 'live', 'miracle', 'miracles'], 'text': '“There are only two ways to live your life. One is as though nothing is a miracle. The other is as though everything is a miracle.”'}\n",
            "{'author': 'Jane Austen', 'tags': ['aliteracy', 'books', 'classic', 'humor'], 'text': '“The person, be it gentleman or lady, who has not pleasure in a good novel, must be intolerably stupid.”'}\n",
            "{'author': 'Marilyn Monroe', 'tags': ['be-yourself', 'inspirational'], 'text': \"“Imperfection is beauty, madness is genius and it's better to be absolutely ridiculous than absolutely boring.”\"}\n",
            "{'author': 'Albert Einstein', 'tags': ['adulthood', 'success', 'value'], 'text': '“Try not to become a man of success. Rather become a man of value.”'}\n",
            "{'author': 'André Gide', 'tags': ['life', 'love'], 'text': '“It is better to be hated for what you are than to be loved for what you are not.”'}\n",
            "{'author': 'Thomas A. Edison', 'tags': ['edison', 'failure', 'inspirational', 'paraphrased'], 'text': \"“I have not failed. I've just found 10,000 ways that won't work.”\"}\n",
            "{'author': 'Eleanor Roosevelt', 'tags': ['misattributed-eleanor-roosevelt'], 'text': \"“A woman is like a tea bag; you never know how strong it is until it's in hot water.”\"}\n",
            "{'author': 'Steve Martin', 'tags': ['humor', 'obvious', 'simile'], 'text': '“A day without sunshine is like, you know, night.”'}\n",
            "{'author': 'Marilyn Monroe', 'tags': ['friends', 'heartbreak', 'inspirational', 'life', 'love', 'sisters'], 'text': \"“This life is what you make it. No matter what, you're going to mess up sometimes, it's a universal truth. But the good part is you get to decide how you're going to mess it up. Girls will be your friends - they'll act like it anyway. But just remember, some come, some go. The ones that stay with you through everything - they're your true best friends. Don't let go of them. Also remember, sisters make the best friends in the world. As for lovers, well, they'll come and go too. And baby, I hate to say it, most of them - actually pretty much all of them are going to break your heart, but you can't give up because if you give up, you'll never find your soulmate. You'll never find that half who makes you whole and that goes for everything. Just because you fail once, doesn't mean you're gonna fail at everything. Keep trying, hold on, and always, always, always believe in yourself, because if you don't, then who will, sweetie? So keep your head high, keep your chin up, and most importantly, keep smiling, because life's a beautiful thing and there's so much to smile about.”\"}\n",
            "{'author': 'J.K. Rowling', 'tags': ['courage', 'friends'], 'text': '“It takes a great deal of bravery to stand up to our enemies, but just as much to stand up to our friends.”'}\n",
            "{'author': 'Albert Einstein', 'tags': ['simplicity', 'understand'], 'text': \"“If you can't explain it to a six year old, you don't understand it yourself.”\"}\n",
            "{'author': 'Bob Marley', 'tags': ['love'], 'text': \"“You may not be her first, her last, or her only. She loved before she may love again. But if she loves you now, what else matters? She's not perfect—you aren't either, and the two of you may never be perfect together but if she can make you laugh, cause you to think twice, and admit to being human and making mistakes, hold onto her and give her the most you can. She may not be thinking about you every second of the day, but she will give you a part of her that she knows you can break—her heart. So don't hurt her, don't change her, don't analyze and don't expect more than she can give. Smile when she makes you happy, let her know when she makes you mad, and miss her when she's not there.”\"}\n",
            "{'author': 'Dr. Seuss', 'tags': ['fantasy'], 'text': '“I like nonsense, it wakes up the brain cells. Fantasy is a necessary ingredient in living.”'}\n",
            "{'author': 'Douglas Adams', 'tags': ['life', 'navigation'], 'text': '“I may not have gone where I intended to go, but I think I have ended up where I needed to be.”'}\n",
            "{'author': 'Elie Wiesel', 'tags': ['activism', 'apathy', 'hate', 'indifference', 'inspirational', 'love', 'opposite', 'philosophy'], 'text': \"“The opposite of love is not hate, it's indifference. The opposite of art is not ugliness, it's indifference. The opposite of faith is not heresy, it's indifference. And the opposite of life is not death, it's indifference.”\"}\n",
            "{'author': 'Friedrich Nietzsche', 'tags': ['friendship', 'lack-of-friendship', 'lack-of-love', 'love', 'marriage', 'unhappy-marriage'], 'text': '“It is not a lack of love, but a lack of friendship that makes unhappy marriages.”'}\n",
            "{'author': 'Mark Twain', 'tags': ['books', 'contentment', 'friends', 'friendship', 'life'], 'text': '“Good friends, good books, and a sleepy conscience: this is the ideal life.”'}\n",
            "{'author': 'Allen Saunders', 'tags': ['fate', 'life', 'misattributed-john-lennon', 'planning', 'plans'], 'text': '“Life is what happens to us while we are making other plans.”'}\n",
            "{'author': 'Pablo Neruda', 'tags': ['love', 'poetry'], 'text': '“I love you without knowing how, or when, or from where. I love you simply, without problems or pride: I love you in this way because I do not know any other way of loving but this, in which there is no I or you, so intimate that your hand upon my chest is my hand, so intimate that when I fall asleep your eyes close.”'}\n",
            "{'author': 'Ralph Waldo Emerson', 'tags': ['happiness'], 'text': '“For every minute you are angry you lose sixty seconds of happiness.”'}\n",
            "{'author': 'Mother Teresa', 'tags': ['attributed-no-source'], 'text': '“If you judge people, you have no time to love them.”'}\n",
            "{'author': 'Garrison Keillor', 'tags': ['humor', 'religion'], 'text': '“Anyone who thinks sitting in church can make you a Christian must also think that sitting in a garage can make you a car.”'}\n",
            "{'author': 'Jim Henson', 'tags': ['humor'], 'text': '“Beauty is in the eye of the beholder and it may be necessary from time to time to give a stupid or misinformed beholder a black eye.”'}\n",
            "{'author': 'Dr. Seuss', 'tags': ['comedy', 'life', 'yourself'], 'text': '“Today you are You, that is truer than true. There is no one alive who is Youer than You.”'}\n",
            "{'author': 'Albert Einstein', 'tags': ['children', 'fairy-tales'], 'text': '“If you want your children to be intelligent, read them fairy tales. If you want them to be more intelligent, read them more fairy tales.”'}\n",
            "{'author': 'J.K. Rowling', 'tags': [], 'text': '“It is impossible to live without failing at something, unless you live so cautiously that you might as well not have lived at all - in which case, you fail by default.”'}\n",
            "{'author': 'Albert Einstein', 'tags': ['imagination'], 'text': '“Logic will get you from A to Z; imagination will get you everywhere.”'}\n",
            "{'author': 'Bob Marley', 'tags': ['music'], 'text': '“One good thing about music, when it hits you, you feel no pain.”'}\n",
            "{'author': 'Dr. Seuss', 'tags': ['learning', 'reading', 'seuss'], 'text': \"“The more that you read, the more things you will know. The more that you learn, the more places you'll go.”\"}\n",
            "{'author': 'J.K. Rowling', 'tags': ['dumbledore'], 'text': '“Of course it is happening inside your head, Harry, but why on earth should that mean that it is not real?”'}\n",
            "{'author': 'Bob Marley', 'tags': ['friendship'], 'text': '“The truth is, everyone is going to hurt you. You just got to find the ones worth suffering for.”'}\n",
            "{'author': 'Mother Teresa', 'tags': ['misattributed-to-mother-teresa', 'paraphrased'], 'text': '“Not all of us can do great things. But we can do small things with great love.”'}\n",
            "{'author': 'J.K. Rowling', 'tags': ['death', 'inspirational'], 'text': '“To the well-organized mind, death is but the next great adventure.”'}\n",
            "{'author': 'Charles M. Schulz', 'tags': ['chocolate', 'food', 'humor'], 'text': \"“All you need is love. But a little chocolate now and then doesn't hurt.”\"}\n",
            "{'author': 'William Nicholson', 'tags': ['misattributed-to-c-s-lewis', 'reading'], 'text': \"“We read to know we're not alone.”\"}\n",
            "{'author': 'Albert Einstein', 'tags': ['knowledge', 'learning', 'understanding', 'wisdom'], 'text': '“Any fool can know. The point is to understand.”'}\n",
            "{'author': 'Jorge Luis Borges', 'tags': ['books', 'library'], 'text': '“I have always imagined that Paradise will be a kind of library.”'}\n",
            "{'author': 'George Eliot', 'tags': ['inspirational'], 'text': '“It is never too late to be what you might have been.”'}\n",
            "{'author': 'George R.R. Martin', 'tags': ['read', 'readers', 'reading', 'reading-books'], 'text': '“A reader lives a thousand lives before he dies, said Jojen. The man who never reads lives only one.”'}\n",
            "{'author': 'C.S. Lewis', 'tags': ['books', 'inspirational', 'reading', 'tea'], 'text': '“You can never get a cup of tea large enough or a book long enough to suit me.”'}\n",
            "{'author': 'Marilyn Monroe', 'tags': [], 'text': '“You believe lies so you eventually learn to trust no one but yourself.”'}\n",
            "{'author': 'Marilyn Monroe', 'tags': ['girls', 'love'], 'text': '“If you can make a woman laugh, you can make her do anything.”'}\n",
            "{'author': 'Albert Einstein', 'tags': ['life', 'simile'], 'text': '“Life is like riding a bicycle. To keep your balance, you must keep moving.”'}\n",
            "{'author': 'Marilyn Monroe', 'tags': ['love'], 'text': '“The real lover is the man who can thrill you by kissing your forehead or smiling into your eyes or just staring into space.”'}\n",
            "{'author': 'Marilyn Monroe', 'tags': ['attributed-no-source'], 'text': \"“A wise girl kisses but doesn't love, listens but doesn't believe, and leaves before she is left.”\"}\n",
            "{'author': 'Martin Luther King Jr.', 'tags': ['hope', 'inspirational'], 'text': '“Only in the darkness can you see the stars.”'}\n",
            "{'author': 'J.K. Rowling', 'tags': ['dumbledore'], 'text': '“It matters not what someone is born, but what they grow to be.”'}\n",
            "{'author': 'James Baldwin', 'tags': ['love'], 'text': '“Love does not begin and end the way we seem to think it does. Love is a battle, love is a war; love is a growing up.”'}\n",
            "{'author': 'Jane Austen', 'tags': ['friendship', 'love'], 'text': '“There is nothing I would not do for those who are really my friends. I have no notion of loving people by halves, it is not my nature.”'}\n",
            "{'author': 'Eleanor Roosevelt', 'tags': ['attributed', 'fear', 'inspiration'], 'text': '“Do one thing every day that scares you.”'}\n",
            "{'author': 'Marilyn Monroe', 'tags': ['attributed-no-source'], 'text': '“I am good, but not an angel. I do sin, but I am not the devil. I am just a small girl in a big world trying to find someone to love.”'}\n",
            "{'author': 'Albert Einstein', 'tags': ['music'], 'text': '“If I were not a physicist, I would probably be a musician. I often think in music. I live my daydreams in music. I see my life in terms of music.”'}\n",
            "{'author': 'Haruki Murakami', 'tags': ['books', 'thought'], 'text': '“If you only read the books that everyone else is reading, you can only think what everyone else is thinking.”'}\n",
            "{'author': 'Alexandre Dumas fils', 'tags': ['misattributed-to-einstein'], 'text': '“The difference between genius and stupidity is: genius has its limits.”'}\n",
            "{'author': 'Stephenie Meyer', 'tags': ['drug', 'romance', 'simile'], 'text': \"“He's like a drug for you, Bella.”\"}\n",
            "{'author': 'Ernest Hemingway', 'tags': ['books', 'friends', 'novelist-quotes'], 'text': '“There is no friend as loyal as a book.”'}\n",
            "{'author': 'Helen Keller', 'tags': ['inspirational'], 'text': '“When one door of happiness closes, another opens; but often we look so long at the closed door that we do not see the one which has been opened for us.”'}\n",
            "{'author': 'George Bernard Shaw', 'tags': ['inspirational', 'life', 'yourself'], 'text': \"“Life isn't about finding yourself. Life is about creating yourself.”\"}\n",
            "{'author': 'Charles Bukowski', 'tags': ['alcohol'], 'text': \"“That's the problem with drinking, I thought, as I poured myself a drink. If something bad happens you drink in an attempt to forget; if something good happens you drink in order to celebrate; and if nothing happens you drink to make something happen.”\"}\n",
            "{'author': 'Suzanne Collins', 'tags': ['the-hunger-games'], 'text': '“You don’t forget the face of the person who was your last hope.”'}\n",
            "{'author': 'Suzanne Collins', 'tags': ['humor'], 'text': \"“Remember, we're madly in love, so it's all right to kiss me anytime you feel like it.”\"}\n",
            "{'author': 'C.S. Lewis', 'tags': ['love'], 'text': '“To love at all is to be vulnerable. Love anything and your heart will be wrung and possibly broken. If you want to make sure of keeping it intact you must give it to no one, not even an animal. Wrap it carefully round with hobbies and little luxuries; avoid all entanglements. Lock it up safe in the casket or coffin of your selfishness. But in that casket, safe, dark, motionless, airless, it will change. It will not be broken; it will become unbreakable, impenetrable, irredeemable. To love is to be vulnerable.”'}\n",
            "{'author': 'J.R.R. Tolkien', 'tags': ['bilbo', 'journey', 'lost', 'quest', 'travel', 'wander'], 'text': '“Not all those who wander are lost.”'}\n",
            "{'author': 'J.K. Rowling', 'tags': ['live-death-love'], 'text': '“Do not pity the dead, Harry. Pity the living, and, above all those who live without love.”'}\n",
            "{'author': 'Ernest Hemingway', 'tags': ['good', 'writing'], 'text': '“There is nothing to writing. All you do is sit down at a typewriter and bleed.”'}\n",
            "{'author': 'Ralph Waldo Emerson', 'tags': ['life', 'regrets'], 'text': '“Finish each day and be done with it. You have done what you could. Some blunders and absurdities no doubt crept in; forget them as soon as you can. Tomorrow is a new day. You shall begin it serenely and with too high a spirit to be encumbered with your old nonsense.”'}\n",
            "{'author': 'Mark Twain', 'tags': ['education'], 'text': '“I have never let my schooling interfere with my education.”'}\n",
            "{'author': 'Dr. Seuss', 'tags': ['troubles'], 'text': \"“I have heard there are troubles of more than one kind. Some come from ahead and some come from behind. But I've bought a big bat. I'm all ready you see. Now my troubles are going to have troubles with me!”\"}\n",
            "{'author': 'Alfred Tennyson', 'tags': ['friendship', 'love'], 'text': '“If I had a flower for every time I thought of you...I could walk through my garden forever.”'}\n",
            "{'author': 'Charles Bukowski', 'tags': ['humor'], 'text': '“Some people never go crazy. What truly horrible lives they must lead.”'}\n",
            "{'author': 'Terry Pratchett', 'tags': ['humor', 'open-mind', 'thinking'], 'text': '“The trouble with having an open mind, of course, is that people will insist on coming along and trying to put things in it.”'}\n",
            "{'author': 'Dr. Seuss', 'tags': ['humor', 'philosophy'], 'text': '“Think left and think right and think low and think high. Oh, the thinks you can think up if only you try!”'}\n",
            "{'author': 'J.D. Salinger', 'tags': ['authors', 'books', 'literature', 'reading', 'writing'], 'text': \"“What really knocks me out is a book that, when you're all done reading it, you wish the author that wrote it was a terrific friend of yours and you could call him up on the phone whenever you felt like it. That doesn't happen much, though.”\"}\n",
            "{'author': 'George Carlin', 'tags': ['humor', 'insanity', 'lies', 'lying', 'self-indulgence', 'truth'], 'text': '“The reason I talk to myself is because I’m the only one whose answers I accept.”'}\n",
            "{'author': 'John Lennon', 'tags': ['beatles', 'connection', 'dreamers', 'dreaming', 'dreams', 'hope', 'inspirational', 'peace'], 'text': \"“You may say I'm a dreamer, but I'm not the only one. I hope someday you'll join us. And the world will live as one.”\"}\n",
            "{'author': 'W.C. Fields', 'tags': ['humor', 'sinister'], 'text': '“I am free of all prejudice. I hate everyone equally. ”'}\n",
            "{'author': 'Ayn Rand', 'tags': [], 'text': \"“The question isn't who is going to let me; it's who is going to stop me.”\"}\n",
            "{'author': 'Mark Twain', 'tags': ['books', 'classic', 'reading'], 'text': \"“′Classic′ - a book which people praise and don't read.”\"}\n",
            "{'author': 'Albert Einstein', 'tags': ['mistakes'], 'text': '“Anyone who has never made a mistake has never tried anything new.”'}\n",
            "{'author': 'Jane Austen', 'tags': ['humor', 'love', 'romantic', 'women'], 'text': \"“A lady's imagination is very rapid; it jumps from admiration to love, from love to matrimony in a moment.”\"}\n",
            "{'author': 'J.K. Rowling', 'tags': ['integrity'], 'text': '“Remember, if the time should come when you have to make a choice between what is right and what is easy, remember what happened to a boy who was good, and kind, and brave, because he strayed across the path of Lord Voldemort. Remember Cedric Diggory.”'}\n",
            "{'author': 'Jane Austen', 'tags': ['books', 'library', 'reading'], 'text': '“I declare after all there is no enjoyment like reading! How much sooner one tires of any thing than of a book! -- When I have a house of my own, I shall be miserable if I have not an excellent library.”'}\n",
            "{'author': 'Jane Austen', 'tags': ['elizabeth-bennet', 'jane-austen'], 'text': '“There are few people whom I really love, and still fewer of whom I think well. The more I see of the world, the more am I dissatisfied with it; and every day confirms my belief of the inconsistency of all human characters, and of the little dependence that can be placed on the appearance of merit or sense.”'}\n",
            "{'author': 'C.S. Lewis', 'tags': ['age', 'fairytales', 'growing-up'], 'text': '“Some day you will be old enough to start reading fairy tales again.”'}\n",
            "{'author': 'C.S. Lewis', 'tags': ['god'], 'text': '“We are not necessarily doubting that God will do the best for us; we are wondering how painful the best will turn out to be.”'}\n",
            "{'author': 'Mark Twain', 'tags': ['death', 'life'], 'text': '“The fear of death follows from the fear of life. A man who lives fully is prepared to die at any time.”'}\n",
            "{'author': 'Mark Twain', 'tags': ['misattributed-mark-twain', 'truth'], 'text': '“A lie can travel half way around the world while the truth is putting on its shoes.”'}\n",
            "{'author': 'C.S. Lewis', 'tags': ['christianity', 'faith', 'religion', 'sun'], 'text': '“I believe in Christianity as I believe that the sun has risen: not only because I see it, but because by it I see everything else.”'}\n",
            "{'author': 'J.K. Rowling', 'tags': ['truth'], 'text': '“The truth.\" Dumbledore sighed. \"It is a beautiful and terrible thing, and should therefore be treated with great caution.”'}\n",
            "{'author': 'Jimi Hendrix', 'tags': ['death', 'life'], 'text': \"“I'm the one that's got to die when it's time for me to die, so let me live my life the way I want to.”\"}\n",
            "{'author': 'J.M. Barrie', 'tags': ['adventure', 'love'], 'text': '“To die will be an awfully big adventure.”'}\n",
            "{'author': 'E.E. Cummings', 'tags': ['courage'], 'text': '“It takes courage to grow up and become who you really are.”'}\n",
            "{'author': 'Khaled Hosseini', 'tags': ['life'], 'text': '“But better to get hurt by the truth than comforted with a lie.”'}\n",
            "{'author': 'Harper Lee', 'tags': ['better-life-empathy'], 'text': '“You never really understand a person until you consider things from his point of view... Until you climb inside of his skin and walk around in it.”'}\n",
            "{'author': \"Madeleine L'Engle\", 'tags': ['books', 'children', 'difficult', 'grown-ups', 'write', 'writers', 'writing'], 'text': '“You have to write the book that wants to be written. And if the book will be too difficult for grown-ups, then you write it for children.”'}\n",
            "{'author': 'Mark Twain', 'tags': ['truth'], 'text': '“Never tell the truth to people who are not worthy of it.”'}\n",
            "{'author': 'Dr. Seuss', 'tags': ['inspirational'], 'text': \"“A person's a person, no matter how small.”\"}\n",
            "{'author': 'George R.R. Martin', 'tags': ['books', 'mind'], 'text': '“... a mind needs books as a sword needs a whetstone, if it is to keep its edge.”'}\n"
          ]
        }
      ],
      "source": [
        "import json\n",
        "from base64 import b64decode\n",
        "import requests\n",
        "\n",
        "\n",
        "# Define the payload for the Zyte API request\n",
        "payload = {\n",
        "    \"url\": \"http://quotes.toscrape.com/scroll\",\n",
        "    \"browserHtml\": True,\n",
        "    \"actions\": [\n",
        "        {\n",
        "            \"action\": \"scrollBottom\",\n",
        "        },\n",
        "    ],\n",
        "    \"networkCapture\": [\n",
        "        {\n",
        "            \"filterType\": \"url\",\n",
        "            \"httpResponseBody\": True,\n",
        "            \"value\": \"/api/\",\n",
        "            \"matchType\": \"contains\",\n",
        "        },\n",
        "    ],\n",
        "}\n",
        "\n",
        "# Send the request to the Zyte API\n",
        "response = requests.post(\n",
        "    \"https://api.zyte.com/v1/extract\",\n",
        "    auth=(Zyte_Api_Key, \"\"),\n",
        "    json=payload,\n",
        ")\n",
        "\n",
        "# Check for a successful response\n",
        "if response.status_code == 200:\n",
        "    # Parse the raw API response\n",
        "    api_response = response.json()\n",
        "    network_captures = api_response.get(\"networkCapture\", [])\n",
        "\n",
        "    # Process each network capture\n",
        "    for capture in network_captures:\n",
        "        # Decode the HTTP response body from Base64\n",
        "        http_response_body = capture.get(\"httpResponseBody\", \"\")\n",
        "        if http_response_body:\n",
        "            decoded_text = b64decode(http_response_body).decode()\n",
        "\n",
        "            # Convert the decoded text to JSON\n",
        "            data = json.loads(decoded_text)\n",
        "\n",
        "            # Extract and print quotes\n",
        "            for quote in data.get(\"quotes\", []):\n",
        "                extracted_data = {\n",
        "                    \"author\": quote[\"author\"][\"name\"],\n",
        "                    \"tags\": quote[\"tags\"],\n",
        "                    \"text\": quote[\"text\"],\n",
        "                }\n",
        "                print(extracted_data)\n",
        "else:\n",
        "    print(f\"Failed to fetch data: {response.status_code}\")\n"
      ]
    },
    {
      "cell_type": "markdown",
      "metadata": {
        "id": "yECNhC-pwR15"
      },
      "source": [
        "### Chapter 12: Hidden Content & iframes"
      ]
    },
    {
      "cell_type": "markdown",
      "metadata": {
        "id": "44sLxFzQQoco"
      },
      "source": [
        "## Session Management\n"
      ]
    },
    {
      "cell_type": "code",
      "source": [
        "import requests\n",
        "from scrapy.http import HtmlResponse\n",
        "\n",
        "results = []\n",
        "for category_link in category_URLs:\n",
        "    print(f\"Processing label: {category_link}\"    )\n",
        "\n",
        "    actions = [\n",
        "        {\n",
        "            \"action\": \"waitForSelector\",\n",
        "            \"selector\": {\"type\": \"css\", \"value\": \".product-card\"},\n",
        "            \"timeout\": 10,\n",
        "            \"onError\": \"continue\",\n",
        "        },\n",
        "        {\n",
        "            \"action\": \"scrollBottom\",\n",
        "            \"timeout\": 5,\n",
        "            \"maxScrollDelay\": 5,\n",
        "            \"onError\": \"continue\",\n",
        "            \"maxScrollCount\": 3000,\n",
        "        },\n",
        "    ]\n",
        "\n",
        "    label_response = requests.post(\n",
        "        Zapi_url,\n",
        "        auth=(Zyte_Api_Key, \"\"),\n",
        "        json={\n",
        "            \"url\": category_link,\n",
        "            \"actions\": actions,\n",
        "            \"productList\": True,\n",
        "        },\n",
        "    )\n",
        "\n",
        "    if label_response.status_code == 200:\n",
        "        data = label_response.json().get(\"productList\", [])[\"products\"]\n",
        "        print(f\"Fetched {len(data)} items for label '{category_link}'.\")\n",
        "        results.extend(data)\n",
        "    else:\n",
        "        print(f\"Failed to scrape label '{category_link}'. Status code: {label_response.status_code}\")\n",
        "\n",
        "print(\"results:\", results)"
      ],
      "metadata": {
        "id": "jYRkYOGOTPPj"
      },
      "execution_count": null,
      "outputs": []
    },
    {
      "cell_type": "code",
      "source": [],
      "metadata": {
        "id": "tSO8CKePmJTK"
      },
      "execution_count": null,
      "outputs": []
    },
    {
      "cell_type": "markdown",
      "metadata": {
        "id": "t757bZ27p5U9"
      },
      "source": [
        "## Creating and Maintaining Sessions\n",
        "\n",
        "Zyte API's session management allows you to maintain state across multiple requests. This is useful for:\n",
        "\n",
        "- Login workflows that require authentication\n",
        "- Multi-step processes like checkout flows\n",
        "- Persistent cookies and preferences\n",
        "- Stateful interactions with websites\n",
        "\n",
        "Let's start with creating a new session:"
      ]
    },
    {
      "cell_type": "code",
      "execution_count": null,
      "metadata": {
        "id": "oOoVml0bp5U-"
      },
      "outputs": [],
      "source": [
        "def create_session(url, initial_actions=None):\n",
        "    \"\"\"Create a new session for persistent browsing\"\"\"\n",
        "    payload = {\n",
        "        \"url\": url,\n",
        "        \"browserHtml\": True,\n",
        "        \"sessionId\": \"create\"  # Request creation of a new session\n",
        "    }\n",
        "\n",
        "    if initial_actions:\n",
        "        payload[\"actions\"] = initial_actions\n",
        "\n",
        "    response = zyte_request(payload)\n",
        "\n",
        "    if response and \"sessionId\" in response:\n",
        "        print(f\"Created new session with ID: {response['sessionId']}\")\n",
        "        return response\n",
        "    else:\n",
        "        print(\"Failed to create session\")\n",
        "        return None\n",
        "\n",
        "# Create a new session on a simple website\n",
        "session_response = create_session(\"https://books.toscrape.com/\")\n",
        "\n",
        "if session_response:\n",
        "    # Extract the session ID for future requests\n",
        "    session_id = session_response[\"sessionId\"]\n",
        "\n",
        "    # Verify we have the page content\n",
        "    if \"browserHtml\" in session_response:\n",
        "        selector = Selector(session_response[\"browserHtml\"])\n",
        "        title = selector.css(\"title::text\").get(\"\")\n",
        "        print(f\"Page title: {title}\")\n",
        "else:\n",
        "    session_id = None"
      ]
    },
    {
      "cell_type": "markdown",
      "metadata": {
        "id": "krvWTgRup5U-"
      },
      "source": [
        "Now that we have a session, let's use it for subsequent requests to maintain state:"
      ]
    },
    {
      "cell_type": "code",
      "execution_count": null,
      "metadata": {
        "id": "0eBzK57ip5U-"
      },
      "outputs": [],
      "source": [
        "def use_existing_session(session_id, url=None, actions=None):\n",
        "    \"\"\"Make a request using an existing session\"\"\"\n",
        "    if not session_id:\n",
        "        print(\"No session ID provided\")\n",
        "        return None\n",
        "\n",
        "    payload = {\n",
        "        \"sessionId\": session_id,\n",
        "        \"browserHtml\": True\n",
        "    }\n",
        "\n",
        "    # If URL is provided, navigate to that URL\n",
        "    if url:\n",
        "        payload[\"url\"] = url\n",
        "\n",
        "    # If actions are provided, add them\n",
        "    if actions:\n",
        "        payload[\"actions\"] = actions\n",
        "\n",
        "    return zyte_request(payload)\n",
        "\n",
        "# Only proceed if we have a valid session ID\n",
        "if session_id:\n",
        "    # Use the session to navigate to a category page\n",
        "    navigate_actions = [\n",
        "        # Wait for the sidebar categories to be visible\n",
        "        {\n",
        "            \"action\": \"waitForSelector\",\n",
        "            \"selector\": {\"type\": \"css\", \"value\": \".side_categories\"},\n",
        "            \"timeout\": 5\n",
        "        },\n",
        "\n",
        "        # Click on a category link (Travel)\n",
        "        {\n",
        "            \"action\": \"click\",\n",
        "            \"selector\": {\"type\": \"css\", \"value\": \".side_categories ul.nav-list > li > ul > li:first-child > a\"},\n",
        "            \"onError\": \"return\"\n",
        "        },\n",
        "\n",
        "        # Wait for the category page to load\n",
        "        {\n",
        "            \"action\": \"waitForSelector\",\n",
        "            \"selector\": {\"type\": \"css\", \"value\": \".page_inner h1\"},\n",
        "            \"timeout\": 5\n",
        "        }\n",
        "    ]\n",
        "\n",
        "    # Make the request with the existing session\n",
        "    category_response = use_existing_session(session_id, actions=navigate_actions)\n",
        "\n",
        "    if category_response and \"browserHtml\" in category_response:\n",
        "        # Parse the HTML to verify navigation was successful\n",
        "        selector = Selector(category_response[\"browserHtml\"])\n",
        "        category_title = selector.css(\".page_inner h1::text\").get(\"\")\n",
        "        book_count = len(selector.css(\".product_pod\"))\n",
        "\n",
        "        print(f\"Navigated to category: {category_title}\")\n",
        "        print(f\"Found {book_count} books in this category\")\n",
        "        print(f\"Current URL: {category_response.get('url', 'N/A')}\")\n",
        "    else:\n",
        "        print(\"Failed to navigate to category page using the session\")"
      ]
    },
    {
      "cell_type": "code",
      "execution_count": null,
      "metadata": {
        "id": "1GXdB4Acp5U9"
      },
      "outputs": [],
      "source": [
        "# Import required libraries and set up API key\n",
        "import os\n",
        "import requests\n",
        "import json\n",
        "import time\n",
        "from dotenv import load_dotenv\n",
        "from parsel import Selector\n",
        "\n",
        "# Load API key\n",
        "load_dotenv()\n",
        "ZYTE_API_KEY = os.getenv(\"ZYTE_API_KEY\", \"\")\n",
        "if not ZYTE_API_KEY:\n",
        "    ZYTE_API_KEY = input(\"Enter your Zyte API key: \")\n",
        "\n",
        "# Helper function for API requests\n",
        "def zyte_request(payload, max_retries=3):\n",
        "    headers = {\"Content-Type\": \"application/json\", \"Accept\": \"application/json\"}\n",
        "\n",
        "    for attempt in range(max_retries):\n",
        "        try:\n",
        "            response = requests.post(\n",
        "                \"https://api.zyte.com/v1/extract\",\n",
        "                auth=(ZYTE_API_KEY, \"\"),\n",
        "                headers=headers,\n",
        "                json=payload,\n",
        "                timeout=30\n",
        "            )\n",
        "            response.raise_for_status()\n",
        "            return response.json()\n",
        "        except Exception as e:\n",
        "            print(f\"Request failed on attempt {attempt + 1}: {str(e)}\")\n",
        "            if attempt < max_retries - 1:\n",
        "                wait_time = 2 ** attempt\n",
        "                print(f\"Retrying in {wait_time} seconds...\")\n",
        "                time.sleep(wait_time)\n",
        "            else:\n",
        "                print(\"All retry attempts failed.\")\n",
        "                return None\n",
        "    return None"
      ]
    },
    {
      "cell_type": "code",
      "source": [],
      "metadata": {
        "id": "hkN35xHbmNPQ"
      },
      "execution_count": null,
      "outputs": []
    },
    {
      "cell_type": "markdown",
      "metadata": {
        "id": "HANR2EEep5U-"
      },
      "source": [
        "## Login Workflows\n",
        "\n",
        "One of the most common use cases for session management is handling login workflows. Let's create a function to log in to a website and maintain the authenticated session:"
      ]
    },
    {
      "cell_type": "code",
      "execution_count": null,
      "metadata": {
        "id": "sQZApvjgp5U-"
      },
      "outputs": [],
      "source": [
        "def login_to_website(url, username, password, username_selector, password_selector, submit_selector, success_indicator=None):\n",
        "    \"\"\"Log in to a website and create a session\"\"\"\n",
        "    login_actions = [\n",
        "        # Wait for the login form\n",
        "        {\n",
        "            \"action\": \"waitForSelector\",\n",
        "            \"selector\": {\"type\": \"css\", \"value\": username_selector},\n",
        "            \"timeout\": 10\n",
        "        },\n",
        "\n",
        "        # Fill the username field\n",
        "        {\n",
        "            \"action\": \"fill\",\n",
        "            \"selector\": {\"type\": \"css\", \"value\": username_selector},\n",
        "            \"value\": username\n",
        "        },\n",
        "\n",
        "        # Fill the password field\n",
        "        {\n",
        "            \"action\": \"fill\",\n",
        "            \"selector\": {\"type\": \"css\", \"value\": password_selector},\n",
        "            \"value\": password\n",
        "        },\n",
        "\n",
        "        # Click the login button\n",
        "        {\n",
        "            \"action\": \"click\",\n",
        "            \"selector\": {\"type\": \"css\", \"value\": submit_selector},\n",
        "            \"waitForNavigation\": True\n",
        "        }\n",
        "    ]\n",
        "\n",
        "    # If a success indicator is provided, wait for it after login\n",
        "    if success_indicator:\n",
        "        login_actions.append({\n",
        "            \"action\": \"waitForSelector\",\n",
        "            \"selector\": {\"type\": \"css\", \"value\": success_indicator},\n",
        "            \"timeout\": 5,\n",
        "            \"onError\": \"continue\"  # Continue even if indicator not found\n",
        "        })\n",
        "\n",
        "    # Add a final delay to ensure the page loads completely\n",
        "    login_actions.append({\n",
        "        \"action\": \"waitForTimeout\",\n",
        "        \"timeout\": 2\n",
        "    })\n",
        "\n",
        "    payload = {\n",
        "        \"url\": url,\n",
        "        \"browserHtml\": True,\n",
        "        \"sessionId\": \"create\",  # Create a new session\n",
        "        \"actions\": login_actions\n",
        "    }\n",
        "\n",
        "    return zyte_request(payload)\n",
        "\n",
        "# Example: Log in to quotes.toscrape.com\n",
        "login_url = \"https://quotes.toscrape.com/login\"\n",
        "\n",
        "# Note: These are example credentials that should work with quotes.toscrape.com\n",
        "username = \"admin\"\n",
        "password = \"admin\"\n",
        "\n",
        "login_response = login_to_website(\n",
        "    login_url,\n",
        "    username,\n",
        "    password,\n",
        "    \"input[name='username']\",  # Username input selector\n",
        "    \"input[name='password']\",  # Password input selector\n",
        "    \"input[type='submit']\",    # Submit button selector\n",
        "    \".header-box .icon\"        # Success indicator (logged-in user icon)\n",
        ")\n",
        "\n",
        "if login_response:\n",
        "    # Check if we have a session ID\n",
        "    login_session_id = login_response.get(\"sessionId\")\n",
        "\n",
        "    if login_session_id:\n",
        "        print(f\"Login created session with ID: {login_session_id}\")\n",
        "\n",
        "        # Check if login was successful by looking for indicators\n",
        "        html = login_response.get(\"browserHtml\", \"\")\n",
        "        selector = Selector(html)\n",
        "\n",
        "        # Look for success or failure indicators\n",
        "        error_message = selector.css(\".error::text\").get(\"\")\n",
        "        logout_link = selector.css(\"a[href='/logout']\").get()\n",
        "\n",
        "        if logout_link:\n",
        "            print(\"Login successful! Found logout link.\")\n",
        "            login_success = True\n",
        "        elif error_message:\n",
        "            print(f\"Login failed. Error: {error_message}\")\n",
        "            login_success = False\n",
        "        else:\n",
        "            # Check the URL for redirection to a protected page\n",
        "            if login_response.get(\"url\", \"\") != login_url:\n",
        "                print(\"Login appears successful based on URL redirection.\")\n",
        "                login_success = True\n",
        "            else:\n",
        "                print(\"Login status unclear. Could not find confirmation indicators.\")\n",
        "                login_success = False\n",
        "    else:\n",
        "        print(\"Failed to create session.\")\n",
        "        login_success = False\n",
        "        login_session_id = None\n",
        "else:\n",
        "    print(\"Login request failed.\")\n",
        "    login_success = False\n",
        "    login_session_id = None"
      ]
    },
    {
      "cell_type": "markdown",
      "metadata": {
        "id": "8t6EFO6gp5U-"
      },
      "source": [
        "If login is successful, we can use the session to access protected content:"
      ]
    },
    {
      "cell_type": "code",
      "execution_count": null,
      "metadata": {
        "id": "L3NY80xap5U-"
      },
      "outputs": [],
      "source": [
        "def access_protected_content(session_id, protected_url):\n",
        "    \"\"\"Access protected content using an authenticated session\"\"\"\n",
        "    if not session_id:\n",
        "        print(\"No session ID provided\")\n",
        "        return None\n",
        "\n",
        "    payload = {\n",
        "        \"url\": protected_url,\n",
        "        \"browserHtml\": True,\n",
        "        \"sessionId\": session_id\n",
        "    }\n",
        "\n",
        "    return zyte_request(payload)\n",
        "\n",
        "# Only proceed if login was successful\n",
        "if login_success and login_session_id:\n",
        "    # Access a protected page (for quotes.toscrape.com, this could be the user profile)\n",
        "    protected_url = \"https://quotes.toscrape.com/\"  # Main page with logged in user\n",
        "    protected_response = access_protected_content(login_session_id, protected_url)\n",
        "\n",
        "    if protected_response and \"browserHtml\" in protected_response:\n",
        "        # Check if we still have authenticated access\n",
        "        selector = Selector(protected_response[\"browserHtml\"])\n",
        "\n",
        "        # Look for authenticated indicators\n",
        "        logout_link = selector.css(\"a[href='/logout']\").get()\n",
        "\n",
        "        if logout_link:\n",
        "            print(\"Successfully accessed protected content with authenticated session\")\n",
        "\n",
        "            # Extract some content from the protected page\n",
        "            user_content = selector.css(\".header-box::text\").get(\"\").strip()\n",
        "            print(f\"User content: {user_content}\")\n",
        "        else:\n",
        "            print(\"Session appears to have expired or logged out\")\n",
        "    else:\n",
        "        print(\"Failed to access protected content\")"
      ]
    },
    {
      "cell_type": "markdown",
      "metadata": {
        "id": "G7G7-CBRp5U-"
      },
      "source": [
        "## Stateful Scraping with Multi-Step Workflows\n",
        "\n",
        "Let's implement a more complex stateful scraping workflow that involves multiple steps:"
      ]
    },
    {
      "cell_type": "code",
      "execution_count": null,
      "metadata": {
        "id": "UR3cLnJep5U-"
      },
      "outputs": [],
      "source": [
        "def run_multi_step_workflow(start_url, workflow_steps):\n",
        "    \"\"\"Execute a multi-step workflow using a persistent session\"\"\"\n",
        "    # Create a new session\n",
        "    session_response = create_session(start_url)\n",
        "\n",
        "    if not session_response or \"sessionId\" not in session_response:\n",
        "        print(\"Failed to create session for workflow\")\n",
        "        return None\n",
        "\n",
        "    session_id = session_response[\"sessionId\"]\n",
        "    results = [session_response]  # Store initial response in results\n",
        "\n",
        "    # Execute each step in the workflow\n",
        "    for i, step in enumerate(workflow_steps, 1):\n",
        "        print(f\"\\nExecuting workflow step {i}/{len(workflow_steps)}: {step['description']}\")\n",
        "\n",
        "        # Get the URL for this step (if provided)\n",
        "        url = step.get('url', None)\n",
        "\n",
        "        # Execute the step using the existing session\n",
        "        step_response = use_existing_session(session_id, url, step['actions'])\n",
        "\n",
        "        if not step_response:\n",
        "            print(f\"Step {i} failed. Workflow cannot continue.\")\n",
        "            break\n",
        "\n",
        "        results.append(step_response)\n",
        "        print(f\"Step {i} completed successfully\")\n",
        "\n",
        "        # Add a delay between steps\n",
        "        time.sleep(1)\n",
        "\n",
        "    return {\n",
        "        \"session_id\": session_id,\n",
        "        \"results\": results,\n",
        "        \"completed_steps\": len(results) - 1  # Subtract 1 for initial session creation\n",
        "    }\n",
        "\n",
        "# Example: Multi-step workflow on books.toscrape.com\n",
        "# 1. Navigate to a category\n",
        "# 2. Select a book\n",
        "# 3. Check book details\n",
        "\n",
        "books_workflow = [\n",
        "    {\n",
        "        \"description\": \"Navigate to Travel category\",\n",
        "        \"actions\": [\n",
        "            {\n",
        "                \"action\": \"waitForSelector\",\n",
        "                \"selector\": {\"type\": \"css\", \"value\": \".side_categories\"},\n",
        "                \"timeout\": 5\n",
        "            },\n",
        "            {\n",
        "                \"action\": \"click\",\n",
        "                \"selector\": {\"type\": \"css\", \"value\": \".side_categories ul.nav-list > li > ul > li:first-child > a\"},\n",
        "                \"onError\": \"return\"\n",
        "            },\n",
        "            {\n",
        "                \"action\": \"waitForSelector\",\n",
        "                \"selector\": {\"type\": \"css\", \"value\": \".page_inner h1\"},\n",
        "                \"timeout\": 5\n",
        "            }\n",
        "        ]\n",
        "    },\n",
        "    {\n",
        "        \"description\": \"Select first book in category\",\n",
        "        \"actions\": [\n",
        "            {\n",
        "                \"action\": \"waitForSelector\",\n",
        "                \"selector\": {\"type\": \"css\", \"value\": \".product_pod h3 a\"},\n",
        "                \"timeout\": 5\n",
        "            },\n",
        "            {\n",
        "                \"action\": \"click\",\n",
        "                \"selector\": {\"type\": \"css\", \"value\": \".product_pod:first-child h3 a\"},\n",
        "                \"onError\": \"return\"\n",
        "            },\n",
        "            {\n",
        "                \"action\": \"waitForSelector\",\n",
        "                \"selector\": {\"type\": \"css\", \"value\": \".product_page\"},\n",
        "                \"timeout\": 5\n",
        "            }\n",
        "        ]\n",
        "    },\n",
        "    {\n",
        "        \"description\": \"Add book to basket\",\n",
        "        \"actions\": [\n",
        "            {\n",
        "                \"action\": \"waitForSelector\",\n",
        "                \"selector\": {\"type\": \"css\", \"value\": \".btn-add-to-basket\"},\n",
        "                \"timeout\": 5\n",
        "            },\n",
        "            {\n",
        "                \"action\": \"click\",\n",
        "                \"selector\": {\"type\": \"css\", \"value\": \".btn-add-to-basket\"},\n",
        "                \"onError\": \"return\"\n",
        "            },\n",
        "            {\n",
        "                \"action\": \"waitForSelector\",\n",
        "                \"selector\": {\"type\": \"css\", \"value\": \".alert-success\"},\n",
        "                \"timeout\": 5,\n",
        "                \"onError\": \"continue\"\n",
        "            }\n",
        "        ]\n",
        "    },\n",
        "    {\n",
        "        \"description\": \"View basket\",\n",
        "        \"actions\": [\n",
        "            {\n",
        "                \"action\": \"click\",\n",
        "                \"selector\": {\"type\": \"css\", \"value\": \".btn-group a.btn-default\"},\n",
        "                \"onError\": \"return\"\n",
        "            },\n",
        "            {\n",
        "                \"action\": \"waitForSelector\",\n",
        "                \"selector\": {\"type\": \"css\", \"value\": \".basket-items\"},\n",
        "                \"timeout\": 5\n",
        "            }\n",
        "        ]\n",
        "    }\n",
        "]\n",
        "\n",
        "# Run the workflow\n",
        "workflow_result = run_multi_step_workflow(\"https://books.toscrape.com/\", books_workflow)\n",
        "\n",
        "if workflow_result:\n",
        "    print(f\"\\nWorkflow completed {workflow_result['completed_steps']} of {len(books_workflow)} steps\")\n",
        "\n",
        "    # Analyze the final result (basket contents)\n",
        "    if workflow_result['completed_steps'] == len(books_workflow) and workflow_result['results']:\n",
        "        final_response = workflow_result['results'][-1]\n",
        "\n",
        "        if \"browserHtml\" in final_response:\n",
        "            selector = Selector(final_response[\"browserHtml\"])\n",
        "\n",
        "            # Check basket contents\n",
        "            basket_items = selector.css(\".basket-items tr\")\n",
        "            print(f\"\\nBasket contains {len(basket_items) - 1} items:\")  # Subtract 1 for header row\n",
        "\n",
        "            for item in selector.css(\".basket-items .row\"):\n",
        "                title = item.css(\".col-sm-4 a::text\").get(\"\").strip()\n",
        "                price = item.css(\".price_color::text\").get(\"\").strip()\n",
        "                quantity = item.css(\".form-control::attr(value)\").get(\"\")\n",
        "\n",
        "                if title and price:\n",
        "                    print(f\"- {title}: {price} (Quantity: {quantity})\")\n",
        "\n",
        "            # Get total price\n",
        "            total = selector.css(\".total::text\").get(\"\").strip()\n",
        "            print(f\"Total: {total}\")"
      ]
    },
    {
      "cell_type": "markdown",
      "metadata": {
        "id": "SIZ_DEBKp5U-"
      },
      "source": [
        "## Session Timeout and Reuse\n",
        "\n",
        "Sessions in Zyte API have a limited lifetime and may expire after a period of inactivity. Here's how to check if a session is still valid and reuse it if possible:"
      ]
    },
    {
      "cell_type": "markdown",
      "metadata": {
        "id": "mOly0Qn_mbno"
      },
      "source": [
        "## Stateful Scraping with Multi-Step Workflows\n",
        "\n",
        "Let's implement a more complex stateful scraping workflow that involves multiple steps:"
      ]
    },
    {
      "cell_type": "markdown",
      "metadata": {
        "id": "ZWkc-uLAmeEJ"
      },
      "source": [
        "## Stateful Scraping with Multi-Step Workflows\n",
        "\n",
        "Let's implement a more complex stateful scraping workflow that involves multiple steps:"
      ]
    },
    {
      "cell_type": "code",
      "execution_count": null,
      "metadata": {
        "id": "FxFp9cCcmeEJ"
      },
      "outputs": [],
      "source": [
        "def run_multi_step_workflow(start_url, workflow_steps):\n",
        "    \"\"\"Execute a multi-step workflow using a persistent session\"\"\"\n",
        "    # Create a new session\n",
        "    session_response = create_session(start_url)\n",
        "\n",
        "    if not session_response or \"sessionId\" not in session_response:\n",
        "        print(\"Failed to create session for workflow\")\n",
        "        return None\n",
        "\n",
        "    session_id = session_response[\"sessionId\"]\n",
        "    results = [session_response]  # Store initial response in results\n",
        "\n",
        "    # Execute each step in the workflow\n",
        "    for i, step in enumerate(workflow_steps, 1):\n",
        "        print(f\"\\nExecuting workflow step {i}/{len(workflow_steps)}: {step['description']}\")\n",
        "\n",
        "        # Get the URL for this step (if provided)\n",
        "        url = step.get('url', None)\n",
        "\n",
        "        # Execute the step using the existing session\n",
        "        step_response = use_existing_session(session_id, url, step['actions'])\n",
        "\n",
        "        if not step_response:\n",
        "            print(f\"Step {i} failed. Workflow cannot continue.\")\n",
        "            break\n",
        "\n",
        "        results.append(step_response)\n",
        "        print(f\"Step {i} completed successfully\")\n",
        "\n",
        "        # Add a delay between steps\n",
        "        time.sleep(1)\n",
        "\n",
        "    return {\n",
        "        \"session_id\": session_id,\n",
        "        \"results\": results,\n",
        "        \"completed_steps\": len(results) - 1  # Subtract 1 for initial session creation\n",
        "    }\n",
        "\n",
        "# Example: Multi-step workflow on books.toscrape.com\n",
        "# 1. Navigate to a category\n",
        "# 2. Select a book\n",
        "# 3. Check book details\n",
        "\n",
        "books_workflow = [\n",
        "    {\n",
        "        \"description\": \"Navigate to Travel category\",\n",
        "        \"actions\": [\n",
        "            {\n",
        "                \"action\": \"waitForSelector\",\n",
        "                \"selector\": {\"type\": \"css\", \"value\": \".side_categories\"},\n",
        "                \"timeout\": 5\n",
        "            },\n",
        "            {\n",
        "                \"action\": \"click\",\n",
        "                \"selector\": {\"type\": \"css\", \"value\": \".side_categories ul.nav-list > li > ul > li:first-child > a\"},\n",
        "                \"onError\": \"return\"\n",
        "            },\n",
        "            {\n",
        "                \"action\": \"waitForSelector\",\n",
        "                \"selector\": {\"type\": \"css\", \"value\": \".page_inner h1\"},\n",
        "                \"timeout\": 5\n",
        "            }\n",
        "        ]\n",
        "    },\n",
        "    {\n",
        "        \"description\": \"Select first book in category\",\n",
        "        \"actions\": [\n",
        "            {\n",
        "                \"action\": \"waitForSelector\",\n",
        "                \"selector\": {\"type\": \"css\", \"value\": \".product_pod h3 a\"},\n",
        "                \"timeout\": 5\n",
        "            },\n",
        "            {\n",
        "                \"action\": \"click\",\n",
        "                \"selector\": {\"type\": \"css\", \"value\": \".product_pod:first-child h3 a\"},\n",
        "                \"onError\": \"return\"\n",
        "            },\n",
        "            {\n",
        "                \"action\": \"waitForSelector\",\n",
        "                \"selector\": {\"type\": \"css\", \"value\": \".product_page\"},\n",
        "                \"timeout\": 5\n",
        "            }\n",
        "        ]\n",
        "    },\n",
        "    {\n",
        "        \"description\": \"Add book to basket\",\n",
        "        \"actions\": [\n",
        "            {\n",
        "                \"action\": \"waitForSelector\",\n",
        "                \"selector\": {\"type\": \"css\", \"value\": \".btn-add-to-basket\"},\n",
        "                \"timeout\": 5\n",
        "            },\n",
        "            {\n",
        "                \"action\": \"click\",\n",
        "                \"selector\": {\"type\": \"css\", \"value\": \".btn-add-to-basket\"},\n",
        "                \"onError\": \"return\"\n",
        "            },\n",
        "            {\n",
        "                \"action\": \"waitForSelector\",\n",
        "                \"selector\": {\"type\": \"css\", \"value\": \".alert-success\"},\n",
        "                \"timeout\": 5,\n",
        "                \"onError\": \"continue\"\n",
        "            }\n",
        "        ]\n",
        "    },\n",
        "    {\n",
        "        \"description\": \"View basket\",\n",
        "        \"actions\": [\n",
        "            {\n",
        "                \"action\": \"click\",\n",
        "                \"selector\": {\"type\": \"css\", \"value\": \".btn-group a.btn-default\"},\n",
        "                \"onError\": \"return\"\n",
        "            },\n",
        "            {\n",
        "                \"action\": \"waitForSelector\",\n",
        "                \"selector\": {\"type\": \"css\", \"value\": \".basket-items\"},\n",
        "                \"timeout\": 5\n",
        "            }\n",
        "        ]\n",
        "    }\n",
        "]\n",
        "\n",
        "# Run the workflow\n",
        "workflow_result = run_multi_step_workflow(\"https://books.toscrape.com/\", books_workflow)\n",
        "\n",
        "if workflow_result:\n",
        "    print(f\"\\nWorkflow completed {workflow_result['completed_steps']} of {len(books_workflow)} steps\")\n",
        "\n",
        "    # Analyze the final result (basket contents)\n",
        "    if workflow_result['completed_steps'] == len(books_workflow) and workflow_result['results']:\n",
        "        final_response = workflow_result['results'][-1]\n",
        "\n",
        "        if \"browserHtml\" in final_response:\n",
        "            selector = Selector(final_response[\"browserHtml\"])\n",
        "\n",
        "            # Check basket contents\n",
        "            basket_items = selector.css(\".basket-items tr\")\n",
        "            print(f\"\\nBasket contains {len(basket_items) - 1} items:\")  # Subtract 1 for header row\n",
        "\n",
        "            for item in selector.css(\".basket-items .row\"):\n",
        "                title = item.css(\".col-sm-4 a::text\").get(\"\").strip()\n",
        "                price = item.css(\".price_color::text\").get(\"\").strip()\n",
        "                quantity = item.css(\".form-control::attr(value)\").get(\"\")\n",
        "\n",
        "                if title and price:\n",
        "                    print(f\"- {title}: {price} (Quantity: {quantity})\")\n",
        "\n",
        "            # Get total price\n",
        "            total = selector.css(\".total::text\").get(\"\").strip()\n",
        "            print(f\"Total: {total}\")"
      ]
    },
    {
      "cell_type": "code",
      "execution_count": null,
      "metadata": {
        "id": "ZXR0Q3PMp5U_"
      },
      "outputs": [],
      "source": [
        "def check_session_validity(session_id):\n",
        "    \"\"\"Check if a session is still valid\"\"\"\n",
        "    if not session_id:\n",
        "        return False\n",
        "\n",
        "    try:\n",
        "        # Try to use the session with a simple action\n",
        "        payload = {\n",
        "            \"sessionId\": session_id,\n",
        "            \"browserHtml\": True,\n",
        "            \"actions\": [\n",
        "                {\n",
        "                    \"action\": \"waitForTimeout\",\n",
        "                    \"timeout\": 1\n",
        "                }\n",
        "            ]\n",
        "        }\n",
        "\n",
        "        response = zyte_request(payload)\n",
        "\n",
        "        # If we get a valid response with the same session ID, the session is still valid\n",
        "        return response is not None and \"sessionId\" in response and response[\"sessionId\"] == session_id\n",
        "    except Exception as e:\n",
        "        print(f\"Error checking session validity: {str(e)}\")\n",
        "        return False\n",
        "\n",
        "# Check if our session is still valid\n",
        "if 'session_id' in locals() and session_id:\n",
        "    is_valid = check_session_validity(session_id)\n",
        "    print(f\"Session validity check: {'Valid' if is_valid else 'Invalid or expired'}\")\n",
        "\n",
        "    # If valid, reuse it for another request\n",
        "    if is_valid:\n",
        "        home_response = use_existing_session(session_id, \"https://books.toscrape.com/\")\n",
        "\n",
        "        if home_response and \"browserHtml\" in home_response:\n",
        "            selector = Selector(home_response[\"browserHtml\"])\n",
        "            title = selector.css(\"title::text\").get(\"\")\n",
        "            print(f\"Successfully reused session. Page title: {title}\")\n",
        "        else:\n",
        "            print(\"Failed to reuse session\")"
      ]
    },
    {
      "cell_type": "code",
      "source": [],
      "metadata": {
        "id": "loQju6qgaAdx"
      },
      "execution_count": null,
      "outputs": []
    },
    {
      "cell_type": "code",
      "source": [],
      "metadata": {
        "id": "CXVhBLUZaAue"
      },
      "execution_count": null,
      "outputs": []
    },
    {
      "cell_type": "code",
      "source": [
        "import requests\n",
        "\n",
        "ZYTE_API_KEY = \"389ad5e88cba4528ad48aced5e9c3e4d\"\n",
        "\n",
        "def fetch_page(page_num):\n",
        "    url = f\"https://www.kaufland.de/c/milch/~1951/?page={page_num}\"\n",
        "\n",
        "    response = requests.post(\n",
        "        \"https://api.zyte.com/v1/extract\",\n",
        "        auth=(ZYTE_API_KEY, \"\"),\n",
        "        json={\n",
        "            \"url\": url,\n",
        "            \"browserHtml\": True,\n",
        "            \"productList\": True,\n",
        "            \"productNavigation\": True\n",
        "        },\n",
        "    )\n",
        "\n",
        "    data = response.json()\n",
        "    return data.get(\"productList\", {}).get(\"products\", []), data.get(\"productNavigation\", {}).get(\"next\", None)\n",
        "\n",
        "# Loop through the first 3 pages\n",
        "for page in range(1, 4):\n",
        "    print(f\"--- Page {page} ---\")\n",
        "    products, next_page = fetch_page(page)\n",
        "    for product in products:\n",
        "        print(f\"{product.get('name')} - {product.get('price')} {product.get('currency')}\")\n"
      ],
      "metadata": {
        "colab": {
          "base_uri": "https://localhost:8080/"
        },
        "id": "rV-XWDeOaA15",
        "outputId": "e82d1900-1b09-4f85-b531-55911db55966"
      },
      "execution_count": null,
      "outputs": [
        {
          "output_type": "stream",
          "name": "stdout",
          "text": [
            "--- Page 1 ---\n",
            "Kefirpilz bestehend aus 10g Knollen - 14.99 EUR\n",
            "Weihenstephan Barista 1l, Milch + Milchkännchen aus Edelstahl Milk Pitcher 350ml/12oz Milchkanne Milchschaumkännchen Milch Aufschäumen für Cappuccino und Latte Art, Silber + Turbo-Mixer - 24.9 EUR\n",
            "Andechser Natur Ziegen-H-Milch 3,0% -- 1l - 3.39 EUR\n",
            "Natumi Cashew Drink Natural 1 l - 2.41 EUR\n",
            "Sucofin Magermilchpulver 250g - 2.9 EUR\n",
            "Bärenmarke Der Milch Schaum luftig locker in der Sprühflasche 250ml - 4.38 EUR\n",
            "Kefirpilz bestehend aus 10g Knollen - 14.99 EUR\n",
            "Deals - None None\n",
            "Berchtesgadener Land HaltbareAlpenmilch 3,5%, 1 l - 2.29 EUR\n",
            "Nestlé Nido Instant Vollmilchpulver 400g | Fettgehalt mind. 26% | Full Cream Milk Powder | Milchpulver - 8.06 EUR\n",
            "Softeis Pulver Frozen Joghurt 1 Kg Ice Bär Cremig und Lecker 1:3,5 Verhältnis - 9.95 EUR\n",
            "5kg Vollmilchpulver sprühgetrocknet Backen Milchpulver 5 kg - 43.99 EUR\n",
            "Nestle Milchmädchen 8% 400g - 2.75 EUR\n",
            "Golden Turtle Sojaöl 1L | Soja Öl zum braten, backen und frittieren | Sojabohnenöl - 3.69 EUR\n",
            "GOLDEN PEANUT Vollmilchpulver sprühgetrocknet 5 kg Pulver Milch Backen Eiscreme Krisenvorrat - 42.9 EUR\n",
            "Bärenmarke Der Genussvolle Traum feine Kaffeesahne 8% Fett 340g - 2.09 EUR\n",
            "Dovgan Karamell Kondensmilch 6% 397g - 2.69 EUR\n",
            "Weihenstephan Haltbare Milch H-Milch 3,5% Fett 1l - 2.25 EUR\n",
            "Bärenmarke Leichte Die Leichte 4 - 1.83 EUR\n",
            "Holle Anfangsmilch 1 demeter von Geburt an 400 g - 6.14 EUR\n",
            "Nido Instant Vollmilchpulver 900g - 17.29 EUR\n",
            "GOLDEN PEANUT Vollmilchpulver 26% 1 kg - Sprühgetrockneter Frischmilch Ersatz, Camping Reise Urlaub, lange haltbare Vollmilch, Ursprung EU - 14.9 EUR\n",
            "Berchtesgadener Land Haltbare Berg und Alpen Milch 1,5% Fett 1L 1er Pack DE-BY77717EG - 1.94 EUR\n",
            "Berchtesgadener Land HaltbareAlpenmilch 1,5%, 1 l - 2.17 EUR\n",
            "Milch Uchate Polmlek 3.2 1 Liter - 1.38 EUR\n",
            "Dovgan gezuckerte Kondensmilch 8% 397g - 2.29 EUR\n",
            "Weihenstephan Haltbare Milch 3,5 % (0,5 l) - 1.6 EUR\n",
            "MinusL Haltb.Vollmilch 3,5% 1l - 2.52 EUR\n",
            "Bärenmarke Haltbare Milch 3,8% Fett ultrahocherhitzt Packung 1000ml - 3.15 EUR\n",
            "alpro Iced Coffee geröstete Mandel Style 250ml - 1.71 EUR\n",
            "ZIEGENMILCH OHNE LAKTOSE 500 ml - DANMIS - 3.7 EUR\n",
            "CocoTara Cream of Coconut Kokosnusscreme für exotische Cocktails 0,33 l Dose - 7.84 EUR\n",
            "Heumilch ESL- 3,8% länger haltbar -- 1l - 2.39 EUR\n",
            "ALPEN-UHT-MILCH MIT NIEDRIGEM LAKTOSEGEHALT (mind. 3,5 % FETT)1 L - BERCHTESGADENER LAND - 2.63 EUR\n",
            "Frischli Cappuccino Milch 2,5% eine gute Kaffeespezialität 1000ml - 2.53 EUR\n",
            "Debic Profi Schlagsahne mit praktischem Sprühkopf gesüsst 700ml - 10.34 EUR\n",
            "Naarmann Vollmilch laktosefreie H Milch Drehverschluss 1000ml - 2.29 EUR\n",
            "alpro Iced Coffee Karamell Soya Style 250ml - 1.71 EUR\n",
            "25kg Vollmilchpulver sprühgetrocknet Backen Milchpulver Vollmilch Pulver 25 kg - 189.99 EUR\n",
            "Piątnica Mleko Wiejskie Świeże 2,0% 1 L - 2.76 EUR\n",
            "--- Page 2 ---\n",
            "10kg Vollmilchpulver sprühgetrocknet Backen Milchpulver Vollmilch Pulver 10 kg - 83.9 EUR\n",
            "Mlekovita Milk UHT Milko Wydojone bez laztozy 1,5% tł. 500ml - 2.57 EUR\n",
            "MILRAM Haltbare Schlagsahne ultrahocherhitz Faltschachtel 1000ml - 7.62 EUR\n",
            "Malysch Gezuckerte Kondensmilch 8,5% Doy-Pack 290g - 1.99 EUR\n",
            "ALPEN-UHT-MILCH MIT NIEDRIGEM LAKTOSEGEHALT (mind. 3,5 % FETT)1 L - BERCHTESGADENER LAND - 2.63 EUR\n",
            "OATLYHaferdrink Original mit Meersalz, 1 l - 2.65 EUR\n",
            "Bergerie Schafjoghurt nach griechischer Art Natur -- 250g - 2.55 EUR\n",
            "Deals - None None\n",
            "Milchwolke haltbare Vollmilch 3,5% Fett, 12er Pack (12 x 1 l) - 26.95 EUR\n",
            "Venessa VT S+ Topping - 750g Milchpulver 99,8% Milchanteil - 5.7 EUR\n",
            "Golden Ingredients Vollmilchpulver 26% 10 kg - Frischmilch Ersatz, Pulver, haltbare Vollmilch, Ursprung EU - 74.9 EUR\n",
            "Gut & , Kondensmilch 4% 1er Pack (1 x 340g) DE-RP247EG - 6.87 EUR\n",
            "SUCOFIN Magermilchpulver 9 x 250g ideal als Kaffeeweißer, Milchpulver zum Backen, reich an Nährstoffen - 28.0 EUR\n",
            "Turm Kaffeesahne 10 Prozent - 7.99 EUR\n",
            "Bärenmarke Die Ergiebige 10 ergiebige Kondensmilch 10 x 7.5g - 5.26 EUR\n",
            "Allos Dinkel Natur Drink -- 1l - 2.69 EUR\n",
            "Kaffeesahne 10% - 20 Portionen à 10 g, 1 St. - 7.1 EUR\n",
            "36% Sahne 1l - MU! - 6.9 EUR\n",
            "G&G H-Milch 1,5% Fett, 12er Pack (12 x 1 l) - 24.95 EUR\n",
            "HELLMA Kaffeeweißer 500x 2,5 g - 15.95 EUR\n",
            "VENESSA VT 20 Topping 20 x 1kg Magermilchpulver 20% Milchanteil Für Kaffeemaschine - 96.0 EUR\n",
            "Naarmann fettarme H-Milch 1.5% mit Drehverschluss, 12er Pack (12 x 1 l) - 26.95 EUR\n",
            "Frischli Buttermilch-Erzeugnis ein abwechslungsreiches Genussgetränk 1000ml - 2.51 EUR\n",
            "Meggle Creme Patisserie ungesüßte Schlagsahnealternative 1000ml - 4.73 EUR\n",
            "Natumi Dinkel natural -- 1l - 2.49 EUR\n",
            "Cuisine - Mandel Bechamel 200ml - 1.89 EUR\n",
            "Milchwolke fettarme H-Milch 1,5% Fett, 12er Pack (12 x 1 l) - 26.95 EUR\n",
            "Sojade Soja Alternative zu Kefir Natur ohne Zuckerzusatz -- 250g - 5.99 EUR\n",
            "Milram Moin Typ Bananen Milchmisch Getränk mit Calcium 500ml - 1.01 EUR\n",
            "Söbbeke Haltbare Vollmilch laktosefrei -- 1l - 3.55 EUR\n",
            "Gezuckerte Kondensmilch \"Sguschönka\" 8% Fett 397g - 2.49 EUR\n",
            "Łaciate Milk Uht Bez Laktozy 3,2 % 1 L - 11.11 EUR\n",
            "Bären Marke Kaffeetraum Kondensmilch Kaffeemilch cremig 160ml - 1.37 EUR\n",
            "Naarmann entrahmte H-Milch 0.3% mit Drehverschluss, 12er Pack (12 x 1 l) - 27.95 EUR\n",
            "Friesche Vlag - Kaffeemilch Friesche Vlag Halvamel 930ml | Packen Sie einen 930 Milliliter | 6 Stück - 52.99 EUR\n",
            "Provamel Soja Cuisine -- 750ml - 3.99 EUR\n",
            "Planète Kokosfett mild -- 400ml - 5.49 EUR\n",
            "NATUMI Glutenfreier Haferdrink1L - 2.18 EUR\n",
            "Gebaeck Oreschki m.Kondensmilch 300g Korex - 4.59 EUR\n",
            "VENESSA VT 20 Topping 5 x 1kg Magermilchpulver 20% Milchanteil Kaffeemaschine Automaten geeignet - 25.7 EUR\n",
            "--- Page 3 ---\n",
            "Planète Kokosfett mild -- 400ml - 5.49 EUR\n",
            "VENESSA VT 20 Topping 5 x 1kg Magermilchpulver 20% Milchanteil Kaffeemaschine Automaten geeignet - 25.7 EUR\n",
            "Sojade Soja Alternative zu Kefir Heidelbeere-Kirsche ohne Zuckerzusatz -- 250g - 2.69 EUR\n",
            "25kg Vollmilchpulver sprühgetrocknet Backen Milchpulver Vollmilch Pulver 25 kg - 189.99 EUR\n",
            "Polmlek Uchate Milch Uht 2,0% 1 L - 1.3 EUR\n",
            "Jacobs Professional Kaffeeplus 10 x 1kg Instant Kaffeeweisser laktosefrei Kaffeeweißer - 74.24 EUR\n",
            "Allos - Mandel Drink naturell - 1l - 2.78 EUR\n",
            "Deals - None None\n",
            "Softeis Pulver Frozen Joghurt 1 Kg Ice Bär Cremig und Lecker 1:3,5 Verhältnis - 9.95 EUR\n",
            "[ 4x 305ml / 397g ] LONGEVITY Gezuckerte Kondensmilch / 8% Milchfett / Sweetened Condensed Milk - 13.49 EUR\n",
            "BÄRENMARKE Die Ergiebige 10% Kondensmilch 3 x 170,0 g - 2.69 EUR\n",
            "Kaffeesahne Turm 240 Stk & Coffeefair Zuckersticks 1000 x 3,6g - 17.02 EUR\n",
            "Gezuckerte Kondensmilch, karamellisiert, 8,5% Malysch - 2.75 EUR\n",
            "Nestlé Gezuckerte Kondensmilch (397g / 305ml) | 8% Milchfett | Sweetened Condensed Milk - 2.99 EUR\n",
            "Venessa VT S+ Topping - 10 x 750g Milchpulver 99,8% Milchanteil - 53.0 EUR\n",
            "Bärenmarke Die haltbare Milch 3,8% Fett, Vollmilch mit Drehverschluss 12 x 1l, Milch - 27.55 EUR\n",
            "Nature´s Charm Kokosnussmilch zum Aufschlagen 400ml - 4.49 EUR\n",
            "5kg Vollmilchpulver sprühgetrocknet Backen Milchpulver 5 kg - 43.99 EUR\n",
            "Nutriops Ecomil Coconut Eco Almond Nature 1l Sugar Free - 3.5 EUR\n",
            "Alpro Kokonussdrink mit Reis mit Calcium vegan Original 1000 ml - 3.44 EUR\n",
            "Weihenstephan Barista Milch 3% Fett, haltbare Vollmilch mit Drehverschluss 1l, Milch + + 4 Latte Gläser 380ml metallic Farben siehe Bild 380ml 3 Edelstahlschablonen Weihnachten - 19.9 EUR\n",
            "Frischli Kaffeemilch leichten Kaffeegenuß Portionspackungen 3600ml - 17.09 EUR\n",
            "Zubereitung aus karamellisierter Kondensmilch 250g - 2.49 EUR\n",
            "Weihenstephan Haltbare Milch 3,5% Fett (12 x 0,5L) - 22.85 EUR\n",
            "Gläserne Molkerei GM ESL Weidemilch 3,8% Fett -- 1l - 2.19 EUR\n",
            "Arla Milch Portionen 1,5% Fett 100x2cl Kaffeemilch (3er Pack) - 58.19 EUR\n",
            "VENESSA VT 50 Kaffee Topping 5 x 1kg Magermilchpulver 50% Milchanteil Kaffeemaschine Automaten geeignet - 43.0 EUR\n",
            "10kg Vollmilchpulver sprühgetrocknet Backen Milchpulver Vollmilch Pulver 10 kg - 83.9 EUR\n",
            "OATLY CuisineKochzubereitung auf Haferbasis 250ml - Kochsahne (6er Pack) - 15.78 EUR\n",
            "Allos Soja Barista Drink -- 1l - 2.9 EUR\n",
            "VENESSA Topping VT S+ 99,8% Magermilchanteil 5 x 1kg für Vendingautomaten - 27.5 EUR\n",
            "Frischli Schmand cremig ohne Gelatine mild im Geschmack 1000ml - 9.66 EUR\n",
            "Provamel Soja Cuisine -- 250ml - 1.42 EUR\n",
            "Provamel Reis-Kokosdrink -- 1l x 8 - 8er Pack VPE - 29.6 EUR\n",
            "Hochwald Kondensmilch 04919 4% Fett 200g - 75.77 EUR\n",
            "Allos Soja Barista Drink -- 1l x 6 - 6er Pack VPE - 16.9 EUR\n",
            "Weihenstephan Barista Milch 3% Fett, haltbare Vollmilch mit Drehverschluss 1l, Milch + Thermo Milch Cooler - 29.9 EUR\n",
            "Weihenstephan Barista Milch 3% Fett, haltbare Vollmilch mit Drehverschluss 1l, Milch + Milchkännchen aus Edelstahl Milk Pitcher 350ml/12oz Milchkanne Milchschaumkännchen Milch Aufschäumen für Cappuccino und Latte Art, Silber - 16.9 EUR\n",
            "Bärenmarke 10% Kondensmilch 3 x 170g - 3.49 EUR\n",
            "Weihenstephan Haltbare Milch 1,5% Fett (12 x 0,5L) - 22.85 EUR\n"
          ]
        }
      ]
    }
  ],
  "metadata": {
    "colab": {
      "provenance": [],
      "toc_visible": true
    },
    "kernelspec": {
      "display_name": "Python 3",
      "name": "python3"
    },
    "language_info": {
      "name": "python"
    }
  },
  "nbformat": 4,
  "nbformat_minor": 0
}